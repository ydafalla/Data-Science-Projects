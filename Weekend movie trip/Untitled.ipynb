{
 "cells": [
  {
   "cell_type": "code",
   "execution_count": 1,
   "metadata": {},
   "outputs": [],
   "source": [
    "import numpy as np\n",
    "import pandas as pd\n",
    "import matplotlib.pyplot as plt"
   ]
  },
  {
   "cell_type": "code",
   "execution_count": 2,
   "metadata": {},
   "outputs": [
    {
     "name": "stdout",
     "output_type": "stream",
     "text": [
      "   userId movieName  rating\n",
      "0       1  ToyStory       4\n",
      "1       1    Batman       5\n",
      "2       1  Superman       4\n"
     ]
    }
   ],
   "source": [
    "ratings=pd.DataFrame({'userId': [1,1,1], \n",
    "                   'movieName': ['ToyStory', 'Batman', 'Superman'],\n",
    "                   'rating': [4, 5, 4]})\n",
    "print(ratings)"
   ]
  },
  {
   "cell_type": "code",
   "execution_count": 3,
   "metadata": {},
   "outputs": [
    {
     "name": "stdout",
     "output_type": "stream",
     "text": [
      "   userId movieName  rating\n",
      "0       1  ToyStory       4\n",
      "1       1    Batman       5\n",
      "2       1  Superman       4\n",
      "3       2    Aladin       4\n",
      "4       2     Alice       4\n",
      "5       2  LionKing       4\n"
     ]
    }
   ],
   "source": [
    "ratings=ratings.append(pd.Series([2,'Aladin',4], index=ratings.columns ), ignore_index=True)\n",
    "ratings=ratings.append(pd.Series([2,'Alice',4], index=ratings.columns ), ignore_index=True)\n",
    "ratings=ratings.append(pd.Series([2,'LionKing',4], index=ratings.columns ), ignore_index=True)\n",
    "print(ratings)"
   ]
  },
  {
   "cell_type": "code",
   "execution_count": 4,
   "metadata": {},
   "outputs": [
    {
     "name": "stdout",
     "output_type": "stream",
     "text": [
      "   userId movieName      tag\n",
      "0       1  ToyStory    Anime\n",
      "1       1    Batman  Fantasy\n",
      "2       2    Aladin   Disney\n",
      "3       2  LionKing   Disney\n"
     ]
    }
   ],
   "source": [
    "tags=pd.DataFrame({'userId': [1,1,2,2], \n",
    "                   'movieName': ['ToyStory', 'Batman', 'Aladin','LionKing'],\n",
    "                   'tag': [\"Anime\",\"Fantasy\",\"Disney\",\"Disney\"]})\n",
    "print(tags)"
   ]
  },
  {
   "cell_type": "code",
   "execution_count": 5,
   "metadata": {},
   "outputs": [
    {
     "name": "stdout",
     "output_type": "stream",
     "text": [
      "   userId movieName  rating      tag\n",
      "0       1  ToyStory       4    Anime\n",
      "1       1    Batman       5  Fantasy\n",
      "2       1  Superman       4      NaN\n",
      "3       2    Aladin       4   Disney\n",
      "4       2     Alice       4      NaN\n",
      "5       2  LionKing       4   Disney\n"
     ]
    }
   ],
   "source": [
    "ratings_tags=pd.merge(ratings,tags,  how='left', left_on=['userId','movieName'], right_on = ['userId','movieName'])\n",
    "print(ratings_tags)"
   ]
  },
  {
   "cell_type": "code",
   "execution_count": null,
   "metadata": {},
   "outputs": [],
   "source": []
  }
 ],
 "metadata": {
  "kernelspec": {
   "display_name": "Python 3",
   "language": "python",
   "name": "python3"
  },
  "language_info": {
   "codemirror_mode": {
    "name": "ipython",
    "version": 3
   },
   "file_extension": ".py",
   "mimetype": "text/x-python",
   "name": "python",
   "nbconvert_exporter": "python",
   "pygments_lexer": "ipython3",
   "version": "3.7.4"
  }
 },
 "nbformat": 4,
 "nbformat_minor": 2
}
