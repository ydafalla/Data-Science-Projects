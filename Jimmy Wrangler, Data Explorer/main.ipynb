{
 "cells": [
  {
   "cell_type": "markdown",
   "metadata": {},
   "source": [
    "## Data Merging\n",
    "* In this step the two data frames were merged together on the date column creating a new data frame using the following command:"
   ]
  },
  {
   "cell_type": "code",
   "execution_count": 1,
   "metadata": {},
   "outputs": [
    {
     "data": {
      "text/html": [
       "<div>\n",
       "<style scoped>\n",
       "    .dataframe tbody tr th:only-of-type {\n",
       "        vertical-align: middle;\n",
       "    }\n",
       "\n",
       "    .dataframe tbody tr th {\n",
       "        vertical-align: top;\n",
       "    }\n",
       "\n",
       "    .dataframe thead th {\n",
       "        text-align: right;\n",
       "    }\n",
       "</style>\n",
       "<table border=\"1\" class=\"dataframe\">\n",
       "  <thead>\n",
       "    <tr style=\"text-align: right;\">\n",
       "      <th></th>\n",
       "      <th>date</th>\n",
       "      <th>cum_power</th>\n",
       "      <th>day_power</th>\n",
       "      <th>Max Temp</th>\n",
       "      <th>Avg Temp</th>\n",
       "      <th>Min Temp</th>\n",
       "    </tr>\n",
       "  </thead>\n",
       "  <tbody>\n",
       "    <tr>\n",
       "      <td>0</td>\n",
       "      <td>26/10/2011</td>\n",
       "      <td>0.1</td>\n",
       "      <td>10.1</td>\n",
       "      <td>59</td>\n",
       "      <td>50.8</td>\n",
       "      <td>43.0</td>\n",
       "    </tr>\n",
       "    <tr>\n",
       "      <td>1</td>\n",
       "      <td>27/10/2011</td>\n",
       "      <td>10.2</td>\n",
       "      <td>10.0</td>\n",
       "      <td>63</td>\n",
       "      <td>49.7</td>\n",
       "      <td>39.0</td>\n",
       "    </tr>\n",
       "    <tr>\n",
       "      <td>2</td>\n",
       "      <td>28/10/2011</td>\n",
       "      <td>20.2</td>\n",
       "      <td>9.4</td>\n",
       "      <td>66</td>\n",
       "      <td>55.8</td>\n",
       "      <td>46.0</td>\n",
       "    </tr>\n",
       "    <tr>\n",
       "      <td>3</td>\n",
       "      <td>29/10/2011</td>\n",
       "      <td>29.6</td>\n",
       "      <td>4.6</td>\n",
       "      <td>63</td>\n",
       "      <td>56.7</td>\n",
       "      <td>48.0</td>\n",
       "    </tr>\n",
       "    <tr>\n",
       "      <td>4</td>\n",
       "      <td>30/10/2011</td>\n",
       "      <td>34.2</td>\n",
       "      <td>3.8</td>\n",
       "      <td>61</td>\n",
       "      <td>57.1</td>\n",
       "      <td>54.0</td>\n",
       "    </tr>\n",
       "  </tbody>\n",
       "</table>\n",
       "</div>"
      ],
      "text/plain": [
       "         date  cum_power  day_power  Max Temp  Avg Temp  Min Temp\n",
       "0  26/10/2011        0.1       10.1        59      50.8      43.0\n",
       "1  27/10/2011       10.2       10.0        63      49.7      39.0\n",
       "2  28/10/2011       20.2        9.4        66      55.8      46.0\n",
       "3  29/10/2011       29.6        4.6        63      56.7      48.0\n",
       "4  30/10/2011       34.2        3.8        61      57.1      54.0"
      ]
     },
     "execution_count": 1,
     "metadata": {},
     "output_type": "execute_result"
    }
   ],
   "source": [
    "%run data_cleaning.ipynb\n",
    "new_frame=pd.merge(solar_production,temperature,on=\"date\")\n",
    "new_frame.head()"
   ]
  },
  {
   "cell_type": "markdown",
   "metadata": {},
   "source": [
    "* We notice that the new frame contains the \"cum_power\" column which doesn't add any value to what we are trying to achieve. For this reason the column was deleted and the columns were relabled using the following commands: "
   ]
  },
  {
   "cell_type": "code",
   "execution_count": 2,
   "metadata": {},
   "outputs": [
    {
     "data": {
      "text/html": [
       "<div>\n",
       "<style scoped>\n",
       "    .dataframe tbody tr th:only-of-type {\n",
       "        vertical-align: middle;\n",
       "    }\n",
       "\n",
       "    .dataframe tbody tr th {\n",
       "        vertical-align: top;\n",
       "    }\n",
       "\n",
       "    .dataframe thead th {\n",
       "        text-align: right;\n",
       "    }\n",
       "</style>\n",
       "<table border=\"1\" class=\"dataframe\">\n",
       "  <thead>\n",
       "    <tr style=\"text-align: right;\">\n",
       "      <th></th>\n",
       "      <th>date</th>\n",
       "      <th>daily_production_power(KWh)</th>\n",
       "      <th>Max Temp (°F)</th>\n",
       "      <th>Avg Temp (°F)</th>\n",
       "      <th>Min Temp (°F)</th>\n",
       "    </tr>\n",
       "  </thead>\n",
       "  <tbody>\n",
       "    <tr>\n",
       "      <td>0</td>\n",
       "      <td>26/10/2011</td>\n",
       "      <td>10.1</td>\n",
       "      <td>59</td>\n",
       "      <td>50.8</td>\n",
       "      <td>43.0</td>\n",
       "    </tr>\n",
       "    <tr>\n",
       "      <td>1</td>\n",
       "      <td>27/10/2011</td>\n",
       "      <td>10.0</td>\n",
       "      <td>63</td>\n",
       "      <td>49.7</td>\n",
       "      <td>39.0</td>\n",
       "    </tr>\n",
       "    <tr>\n",
       "      <td>2</td>\n",
       "      <td>28/10/2011</td>\n",
       "      <td>9.4</td>\n",
       "      <td>66</td>\n",
       "      <td>55.8</td>\n",
       "      <td>46.0</td>\n",
       "    </tr>\n",
       "    <tr>\n",
       "      <td>3</td>\n",
       "      <td>29/10/2011</td>\n",
       "      <td>4.6</td>\n",
       "      <td>63</td>\n",
       "      <td>56.7</td>\n",
       "      <td>48.0</td>\n",
       "    </tr>\n",
       "    <tr>\n",
       "      <td>4</td>\n",
       "      <td>30/10/2011</td>\n",
       "      <td>3.8</td>\n",
       "      <td>61</td>\n",
       "      <td>57.1</td>\n",
       "      <td>54.0</td>\n",
       "    </tr>\n",
       "  </tbody>\n",
       "</table>\n",
       "</div>"
      ],
      "text/plain": [
       "         date  daily_production_power(KWh)  Max Temp (°F)  Avg Temp (°F)  \\\n",
       "0  26/10/2011                         10.1             59           50.8   \n",
       "1  27/10/2011                         10.0             63           49.7   \n",
       "2  28/10/2011                          9.4             66           55.8   \n",
       "3  29/10/2011                          4.6             63           56.7   \n",
       "4  30/10/2011                          3.8             61           57.1   \n",
       "\n",
       "   Min Temp (°F)  \n",
       "0           43.0  \n",
       "1           39.0  \n",
       "2           46.0  \n",
       "3           48.0  \n",
       "4           54.0  "
      ]
     },
     "execution_count": 2,
     "metadata": {},
     "output_type": "execute_result"
    }
   ],
   "source": [
    "new_frame=new_frame.drop(columns=\"cum_power\")\n",
    "#renaming the columns\n",
    "new_frame.columns=['date','daily_production_power(KWh)','Max Temp (°F)','Avg Temp (°F)','Min Temp (°F)']\n",
    "new_frame.head()"
   ]
  },
  {
   "cell_type": "markdown",
   "metadata": {},
   "source": [
    "## Plotting the data\n",
    "* Now we are going to plot the data to try and find a correlation between the daily_power_production of the solar panels and the temperature. The daily power production and the temperature were plotted in the same plot.\n",
    "\n",
    "\n",
    "* It was noticed from figure below that the daily_power_production was in direct correlation with the temperature. At the highest power the temperature was high and vice versa. It can be concluded that there is a direct correlation between the solar panel productions and the temperature.\n",
    "\n",
    "\n",
    "* Below is the commands used for plotting the datasets and the resulting plots."
   ]
  },
  {
   "cell_type": "code",
   "execution_count": 3,
   "metadata": {},
   "outputs": [
    {
     "data": {
      "image/png": "[encoded data removed]",
      "text/plain": [
       "<Figure size 432x288 with 1 Axes>"
      ]
     },
     "metadata": {
      "needs_background": "light"
     },
     "output_type": "display_data"
    }
   ],
   "source": [
    "ax = plt.gca()\n",
    "new_frame.plot(kind='line',y='Avg Temp (°F)',ax=ax)\n",
    "new_frame.plot(kind='line',y='daily_production_power(KWh)', color='red', ax=ax)\n",
    "plt.show()"
   ]
  },
  {
   "cell_type": "markdown",
   "metadata": {},
   "source": [
    "* In the next plot we will look at a graph showing the relationship between the daily_power_production and the temperature. Below is the command to plot the graph."
   ]
  },
  {
   "cell_type": "code",
   "execution_count": 4,
   "metadata": {},
   "outputs": [
    {
     "data": {
      "text/plain": [
       "<matplotlib.axes._subplots.AxesSubplot at 0x7fd505712f90>"
      ]
     },
     "execution_count": 4,
     "metadata": {},
     "output_type": "execute_result"
    },
    {
     "data": {
      "image/png": "[encoded data removed]",
      "text/plain": [
       "<Figure size 432x288 with 1 Axes>"
      ]
     },
     "metadata": {
      "needs_background": "light"
     },
     "output_type": "display_data"
    }
   ],
   "source": [
    "new_frame.plot(x='daily_production_power(KWh)',y='Avg Temp (°F)', style='o')"
   ]
  },
  {
   "cell_type": "markdown",
   "metadata": {},
   "source": [
    "* We can see that in general the higher the temperature the higher the daily_production_power. The correlation is not perfect but we can observe it in most of the data."
   ]
  },
  {
   "cell_type": "markdown",
   "metadata": {},
   "source": [
    "* Below are some statistics regarding the new data frame."
   ]
  },
  {
   "cell_type": "code",
   "execution_count": 5,
   "metadata": {},
   "outputs": [
    {
     "data": {
      "text/html": [
       "<div>\n",
       "<style scoped>\n",
       "    .dataframe tbody tr th:only-of-type {\n",
       "        vertical-align: middle;\n",
       "    }\n",
       "\n",
       "    .dataframe tbody tr th {\n",
       "        vertical-align: top;\n",
       "    }\n",
       "\n",
       "    .dataframe thead th {\n",
       "        text-align: right;\n",
       "    }\n",
       "</style>\n",
       "<table border=\"1\" class=\"dataframe\">\n",
       "  <thead>\n",
       "    <tr style=\"text-align: right;\">\n",
       "      <th></th>\n",
       "      <th>daily_production_power(KWh)</th>\n",
       "      <th>Max Temp (°F)</th>\n",
       "      <th>Avg Temp (°F)</th>\n",
       "      <th>Min Temp (°F)</th>\n",
       "    </tr>\n",
       "  </thead>\n",
       "  <tbody>\n",
       "    <tr>\n",
       "      <td>count</td>\n",
       "      <td>2557.000000</td>\n",
       "      <td>2558.000000</td>\n",
       "      <td>2558.000000</td>\n",
       "      <td>2558.000000</td>\n",
       "    </tr>\n",
       "    <tr>\n",
       "      <td>mean</td>\n",
       "      <td>10.997223</td>\n",
       "      <td>59.432369</td>\n",
       "      <td>52.701759</td>\n",
       "      <td>45.623612</td>\n",
       "    </tr>\n",
       "    <tr>\n",
       "      <td>std</td>\n",
       "      <td>8.209054</td>\n",
       "      <td>13.130341</td>\n",
       "      <td>11.390258</td>\n",
       "      <td>10.903156</td>\n",
       "    </tr>\n",
       "    <tr>\n",
       "      <td>min</td>\n",
       "      <td>0.000000</td>\n",
       "      <td>19.000000</td>\n",
       "      <td>11.500000</td>\n",
       "      <td>0.000000</td>\n",
       "    </tr>\n",
       "    <tr>\n",
       "      <td>25%</td>\n",
       "      <td>4.000000</td>\n",
       "      <td>50.000000</td>\n",
       "      <td>44.300000</td>\n",
       "      <td>39.000000</td>\n",
       "    </tr>\n",
       "    <tr>\n",
       "      <td>50%</td>\n",
       "      <td>9.700000</td>\n",
       "      <td>59.000000</td>\n",
       "      <td>52.500000</td>\n",
       "      <td>46.000000</td>\n",
       "    </tr>\n",
       "    <tr>\n",
       "      <td>75%</td>\n",
       "      <td>17.000000</td>\n",
       "      <td>70.000000</td>\n",
       "      <td>61.600000</td>\n",
       "      <td>54.000000</td>\n",
       "    </tr>\n",
       "    <tr>\n",
       "      <td>max</td>\n",
       "      <td>34.000000</td>\n",
       "      <td>99.000000</td>\n",
       "      <td>83.100000</td>\n",
       "      <td>72.000000</td>\n",
       "    </tr>\n",
       "  </tbody>\n",
       "</table>\n",
       "</div>"
      ],
      "text/plain": [
       "       daily_production_power(KWh)  Max Temp (°F)  Avg Temp (°F)  \\\n",
       "count                  2557.000000    2558.000000    2558.000000   \n",
       "mean                     10.997223      59.432369      52.701759   \n",
       "std                       8.209054      13.130341      11.390258   \n",
       "min                       0.000000      19.000000      11.500000   \n",
       "25%                       4.000000      50.000000      44.300000   \n",
       "50%                       9.700000      59.000000      52.500000   \n",
       "75%                      17.000000      70.000000      61.600000   \n",
       "max                      34.000000      99.000000      83.100000   \n",
       "\n",
       "       Min Temp (°F)  \n",
       "count    2558.000000  \n",
       "mean       45.623612  \n",
       "std        10.903156  \n",
       "min         0.000000  \n",
       "25%        39.000000  \n",
       "50%        46.000000  \n",
       "75%        54.000000  \n",
       "max        72.000000  "
      ]
     },
     "execution_count": 5,
     "metadata": {},
     "output_type": "execute_result"
    }
   ],
   "source": [
    "#some statistics regarding the gathered data\n",
    "new_frame.describe()"
   ]
  }
 ],
 "metadata": {
  "kernelspec": {
   "display_name": "Python 3",
   "language": "python",
   "name": "python3"
  },
  "language_info": {
   "codemirror_mode": {
    "name": "ipython",
    "version": 3
   },
   "file_extension": ".py",
   "mimetype": "text/x-python",
   "name": "python",
   "nbconvert_exporter": "python",
   "pygments_lexer": "ipython3",
   "version": "3.7.4"
  }
 },
 "nbformat": 4,
 "nbformat_minor": 2
}
