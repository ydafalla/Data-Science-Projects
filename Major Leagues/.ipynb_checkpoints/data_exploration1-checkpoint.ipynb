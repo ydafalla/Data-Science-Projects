{
 "cells": [
  {
   "cell_type": "markdown",
   "metadata": {},
   "source": [
    "## Loading the datasets"
   ]
  },
  {
<<<<<<< HEAD
   "cell_type": "markdown",
   "metadata": {},
   "source": [
    "* Reference:\n",
    "https://towardsdatascience.com/a-beginners-guide-to-linear-regression-in-python-with-scikit-learn-83a8f7ae2b4f"
   ]
  },
  {
=======
>>>>>>> e31dfd3c9b1f508a6c233b0c6c116f73e23bcc08
   "cell_type": "code",
   "execution_count": 1,
   "metadata": {},
   "outputs": [],
   "source": [
    "import numpy as np\n",
    "import pandas as pd\n",
    "import matplotlib.pyplot as plt\n",
    "import seaborn as seabornInstance \n",
    "from sklearn.model_selection import train_test_split \n",
    "from sklearn.linear_model import LinearRegression\n",
    "from sklearn import metrics\n",
    "%matplotlib inline\n",
    "spi_matches=pd.read_csv('Data/spi_matches.csv')\n",
    "spi_global_teams=pd.read_csv('Data/spi_global_rankings.csv')\n",
    "spi_global_nations=pd.read_csv('Data/spi_global_rankings_intl.csv')\n"
   ]
  },
  {
   "cell_type": "code",
   "execution_count": 2,
   "metadata": {},
   "outputs": [
    {
     "data": {
      "text/html": [
       "<div>\n",
       "<style scoped>\n",
       "    .dataframe tbody tr th:only-of-type {\n",
       "        vertical-align: middle;\n",
       "    }\n",
       "\n",
       "    .dataframe tbody tr th {\n",
       "        vertical-align: top;\n",
       "    }\n",
       "\n",
       "    .dataframe thead th {\n",
       "        text-align: right;\n",
       "    }\n",
       "</style>\n",
       "<table border=\"1\" class=\"dataframe\">\n",
       "  <thead>\n",
       "    <tr style=\"text-align: right;\">\n",
       "      <th></th>\n",
       "      <th>date</th>\n",
       "      <th>league_id</th>\n",
       "      <th>league</th>\n",
       "      <th>team1</th>\n",
       "      <th>team2</th>\n",
       "      <th>spi1</th>\n",
       "      <th>spi2</th>\n",
       "      <th>prob1</th>\n",
       "      <th>prob2</th>\n",
       "      <th>probtie</th>\n",
<<<<<<< HEAD
       "      <th>...</th>\n",
=======
       "      <th>proj_score1</th>\n",
       "      <th>proj_score2</th>\n",
>>>>>>> e31dfd3c9b1f508a6c233b0c6c116f73e23bcc08
       "      <th>importance1</th>\n",
       "      <th>importance2</th>\n",
       "      <th>score1</th>\n",
       "      <th>score2</th>\n",
       "      <th>xg1</th>\n",
       "      <th>xg2</th>\n",
       "      <th>nsxg1</th>\n",
       "      <th>nsxg2</th>\n",
       "      <th>adj_score1</th>\n",
       "      <th>adj_score2</th>\n",
       "    </tr>\n",
       "  </thead>\n",
       "  <tbody>\n",
       "    <tr>\n",
<<<<<<< HEAD
       "      <td>0</td>\n",
       "      <td>2016-08-12</td>\n",
       "      <td>1843</td>\n",
       "      <td>French Ligue 1</td>\n",
       "      <td>Bastia</td>\n",
       "      <td>Paris Saint-Germain</td>\n",
       "      <td>51.16</td>\n",
       "      <td>85.68</td>\n",
       "      <td>0.0463</td>\n",
       "      <td>0.8380</td>\n",
       "      <td>0.1157</td>\n",
       "      <td>...</td>\n",
       "      <td>32.4</td>\n",
       "      <td>67.7</td>\n",
       "      <td>0.0</td>\n",
       "      <td>1.0</td>\n",
       "      <td>0.97</td>\n",
       "      <td>0.63</td>\n",
       "      <td>0.43</td>\n",
       "      <td>0.45</td>\n",
       "      <td>0.00</td>\n",
       "      <td>1.05</td>\n",
       "    </tr>\n",
       "    <tr>\n",
       "      <td>1</td>\n",
       "      <td>2016-08-12</td>\n",
       "      <td>1843</td>\n",
       "      <td>French Ligue 1</td>\n",
       "      <td>AS Monaco</td>\n",
       "      <td>Guingamp</td>\n",
       "      <td>68.85</td>\n",
       "      <td>56.48</td>\n",
       "      <td>0.5714</td>\n",
       "      <td>0.1669</td>\n",
       "      <td>0.2617</td>\n",
       "      <td>...</td>\n",
       "      <td>53.7</td>\n",
       "      <td>22.9</td>\n",
       "      <td>2.0</td>\n",
       "      <td>2.0</td>\n",
       "      <td>2.45</td>\n",
       "      <td>0.77</td>\n",
       "      <td>1.75</td>\n",
       "      <td>0.42</td>\n",
       "      <td>2.10</td>\n",
       "      <td>2.10</td>\n",
       "    </tr>\n",
       "    <tr>\n",
       "      <td>2</td>\n",
       "      <td>2016-08-13</td>\n",
       "      <td>2411</td>\n",
       "      <td>Barclays Premier League</td>\n",
       "      <td>Hull City</td>\n",
       "      <td>Leicester City</td>\n",
       "      <td>53.57</td>\n",
       "      <td>66.81</td>\n",
       "      <td>0.3459</td>\n",
       "      <td>0.3621</td>\n",
       "      <td>0.2921</td>\n",
       "      <td>...</td>\n",
       "      <td>38.1</td>\n",
       "      <td>22.2</td>\n",
       "      <td>2.0</td>\n",
       "      <td>1.0</td>\n",
       "      <td>0.85</td>\n",
       "      <td>2.77</td>\n",
       "      <td>0.17</td>\n",
       "      <td>1.25</td>\n",
       "      <td>2.10</td>\n",
       "      <td>1.05</td>\n",
       "    </tr>\n",
       "    <tr>\n",
       "      <td>3</td>\n",
       "      <td>2016-08-13</td>\n",
       "      <td>2411</td>\n",
       "      <td>Barclays Premier League</td>\n",
       "      <td>Crystal Palace</td>\n",
       "      <td>West Bromwich Albion</td>\n",
       "      <td>55.19</td>\n",
       "      <td>58.66</td>\n",
       "      <td>0.4214</td>\n",
       "      <td>0.2939</td>\n",
       "      <td>0.2847</td>\n",
       "      <td>...</td>\n",
       "      <td>43.6</td>\n",
       "      <td>34.6</td>\n",
       "      <td>0.0</td>\n",
       "      <td>1.0</td>\n",
       "      <td>1.11</td>\n",
       "      <td>0.68</td>\n",
       "      <td>0.84</td>\n",
       "      <td>1.60</td>\n",
       "      <td>0.00</td>\n",
       "      <td>1.05</td>\n",
       "    </tr>\n",
       "    <tr>\n",
       "      <td>4</td>\n",
       "      <td>2016-08-13</td>\n",
       "      <td>2411</td>\n",
       "      <td>Barclays Premier League</td>\n",
       "      <td>Everton</td>\n",
       "      <td>Tottenham Hotspur</td>\n",
       "      <td>68.02</td>\n",
       "      <td>73.25</td>\n",
       "      <td>0.3910</td>\n",
       "      <td>0.3401</td>\n",
       "      <td>0.2689</td>\n",
       "      <td>...</td>\n",
       "      <td>31.9</td>\n",
       "      <td>48.0</td>\n",
       "      <td>1.0</td>\n",
       "      <td>1.0</td>\n",
       "      <td>0.73</td>\n",
       "      <td>1.11</td>\n",
       "      <td>0.88</td>\n",
       "      <td>1.81</td>\n",
       "      <td>1.05</td>\n",
       "      <td>1.05</td>\n",
       "    </tr>\n",
       "    <tr>\n",
       "      <td>...</td>\n",
       "      <td>...</td>\n",
       "      <td>...</td>\n",
       "      <td>...</td>\n",
       "      <td>...</td>\n",
       "      <td>...</td>\n",
       "      <td>...</td>\n",
       "      <td>...</td>\n",
       "      <td>...</td>\n",
       "      <td>...</td>\n",
       "      <td>...</td>\n",
       "      <td>...</td>\n",
       "      <td>...</td>\n",
       "      <td>...</td>\n",
       "      <td>...</td>\n",
       "      <td>...</td>\n",
       "      <td>...</td>\n",
       "      <td>...</td>\n",
       "      <td>...</td>\n",
       "      <td>...</td>\n",
       "      <td>...</td>\n",
       "      <td>...</td>\n",
       "    </tr>\n",
       "    <tr>\n",
       "      <td>32246</td>\n",
=======
       "      <th>32246</th>\n",
>>>>>>> e31dfd3c9b1f508a6c233b0c6c116f73e23bcc08
       "      <td>2020-05-24</td>\n",
       "      <td>1869</td>\n",
       "      <td>Spanish Primera Division</td>\n",
       "      <td>Villarreal</td>\n",
       "      <td>Eibar</td>\n",
       "      <td>73.84</td>\n",
       "      <td>73.46</td>\n",
       "      <td>0.4872</td>\n",
       "      <td>0.2588</td>\n",
       "      <td>0.2540</td>\n",
<<<<<<< HEAD
       "      <td>...</td>\n",
=======
       "      <td>1.64</td>\n",
       "      <td>1.13</td>\n",
>>>>>>> e31dfd3c9b1f508a6c233b0c6c116f73e23bcc08
       "      <td>NaN</td>\n",
       "      <td>NaN</td>\n",
       "      <td>NaN</td>\n",
       "      <td>NaN</td>\n",
       "      <td>NaN</td>\n",
       "      <td>NaN</td>\n",
       "      <td>NaN</td>\n",
       "      <td>NaN</td>\n",
       "      <td>NaN</td>\n",
       "      <td>NaN</td>\n",
       "    </tr>\n",
       "    <tr>\n",
<<<<<<< HEAD
       "      <td>32247</td>\n",
=======
       "      <th>32247</th>\n",
>>>>>>> e31dfd3c9b1f508a6c233b0c6c116f73e23bcc08
       "      <td>2020-05-24</td>\n",
       "      <td>1871</td>\n",
       "      <td>Spanish Segunda Division</td>\n",
       "      <td>Las Palmas</td>\n",
       "      <td>Extremadura UD</td>\n",
       "      <td>36.80</td>\n",
       "      <td>31.54</td>\n",
       "      <td>0.4904</td>\n",
       "      <td>0.2091</td>\n",
       "      <td>0.3004</td>\n",
<<<<<<< HEAD
       "      <td>...</td>\n",
=======
       "      <td>1.38</td>\n",
       "      <td>0.80</td>\n",
>>>>>>> e31dfd3c9b1f508a6c233b0c6c116f73e23bcc08
       "      <td>NaN</td>\n",
       "      <td>NaN</td>\n",
       "      <td>NaN</td>\n",
       "      <td>NaN</td>\n",
       "      <td>NaN</td>\n",
       "      <td>NaN</td>\n",
       "      <td>NaN</td>\n",
       "      <td>NaN</td>\n",
       "      <td>NaN</td>\n",
       "      <td>NaN</td>\n",
       "    </tr>\n",
       "    <tr>\n",
<<<<<<< HEAD
       "      <td>32248</td>\n",
=======
       "      <th>32248</th>\n",
>>>>>>> e31dfd3c9b1f508a6c233b0c6c116f73e23bcc08
       "      <td>2020-05-24</td>\n",
       "      <td>1871</td>\n",
       "      <td>Spanish Segunda Division</td>\n",
       "      <td>Numancia</td>\n",
       "      <td>Tenerife</td>\n",
       "      <td>29.52</td>\n",
       "      <td>30.98</td>\n",
       "      <td>0.4367</td>\n",
       "      <td>0.2657</td>\n",
       "      <td>0.2977</td>\n",
<<<<<<< HEAD
       "      <td>...</td>\n",
=======
       "      <td>1.36</td>\n",
       "      <td>0.99</td>\n",
>>>>>>> e31dfd3c9b1f508a6c233b0c6c116f73e23bcc08
       "      <td>NaN</td>\n",
       "      <td>NaN</td>\n",
       "      <td>NaN</td>\n",
       "      <td>NaN</td>\n",
       "      <td>NaN</td>\n",
       "      <td>NaN</td>\n",
       "      <td>NaN</td>\n",
       "      <td>NaN</td>\n",
       "      <td>NaN</td>\n",
       "      <td>NaN</td>\n",
       "    </tr>\n",
       "    <tr>\n",
<<<<<<< HEAD
       "      <td>32249</td>\n",
=======
       "      <th>32249</th>\n",
>>>>>>> e31dfd3c9b1f508a6c233b0c6c116f73e23bcc08
       "      <td>2020-05-24</td>\n",
       "      <td>1871</td>\n",
       "      <td>Spanish Segunda Division</td>\n",
       "      <td>Elche</td>\n",
       "      <td>Real Oviedo</td>\n",
       "      <td>32.18</td>\n",
       "      <td>30.04</td>\n",
       "      <td>0.4768</td>\n",
       "      <td>0.2473</td>\n",
       "      <td>0.2759</td>\n",
<<<<<<< HEAD
       "      <td>...</td>\n",
=======
       "      <td>1.56</td>\n",
       "      <td>1.05</td>\n",
>>>>>>> e31dfd3c9b1f508a6c233b0c6c116f73e23bcc08
       "      <td>NaN</td>\n",
       "      <td>NaN</td>\n",
       "      <td>NaN</td>\n",
       "      <td>NaN</td>\n",
       "      <td>NaN</td>\n",
       "      <td>NaN</td>\n",
       "      <td>NaN</td>\n",
       "      <td>NaN</td>\n",
       "      <td>NaN</td>\n",
       "      <td>NaN</td>\n",
       "    </tr>\n",
       "    <tr>\n",
<<<<<<< HEAD
       "      <td>32250</td>\n",
=======
       "      <th>32250</th>\n",
>>>>>>> e31dfd3c9b1f508a6c233b0c6c116f73e23bcc08
       "      <td>2020-05-24</td>\n",
       "      <td>1871</td>\n",
       "      <td>Spanish Segunda Division</td>\n",
       "      <td>Real Zaragoza</td>\n",
       "      <td>SD Ponferradina</td>\n",
       "      <td>37.74</td>\n",
       "      <td>29.92</td>\n",
       "      <td>0.5405</td>\n",
       "      <td>0.2037</td>\n",
       "      <td>0.2558</td>\n",
<<<<<<< HEAD
       "      <td>...</td>\n",
=======
       "      <td>1.76</td>\n",
       "      <td>0.98</td>\n",
>>>>>>> e31dfd3c9b1f508a6c233b0c6c116f73e23bcc08
       "      <td>NaN</td>\n",
       "      <td>NaN</td>\n",
       "      <td>NaN</td>\n",
       "      <td>NaN</td>\n",
       "      <td>NaN</td>\n",
       "      <td>NaN</td>\n",
       "      <td>NaN</td>\n",
       "      <td>NaN</td>\n",
       "      <td>NaN</td>\n",
       "      <td>NaN</td>\n",
       "    </tr>\n",
       "  </tbody>\n",
       "</table>\n",
<<<<<<< HEAD
       "<p>32251 rows × 22 columns</p>\n",
       "</div>"
      ],
      "text/plain": [
       "             date  league_id                    league           team1  \\\n",
       "0      2016-08-12       1843            French Ligue 1          Bastia   \n",
       "1      2016-08-12       1843            French Ligue 1       AS Monaco   \n",
       "2      2016-08-13       2411   Barclays Premier League       Hull City   \n",
       "3      2016-08-13       2411   Barclays Premier League  Crystal Palace   \n",
       "4      2016-08-13       2411   Barclays Premier League         Everton   \n",
       "...           ...        ...                       ...             ...   \n",
       "32246  2020-05-24       1869  Spanish Primera Division      Villarreal   \n",
       "32247  2020-05-24       1871  Spanish Segunda Division      Las Palmas   \n",
       "32248  2020-05-24       1871  Spanish Segunda Division        Numancia   \n",
       "32249  2020-05-24       1871  Spanish Segunda Division           Elche   \n",
       "32250  2020-05-24       1871  Spanish Segunda Division   Real Zaragoza   \n",
       "\n",
       "                      team2   spi1   spi2   prob1   prob2  probtie  ...  \\\n",
       "0       Paris Saint-Germain  51.16  85.68  0.0463  0.8380   0.1157  ...   \n",
       "1                  Guingamp  68.85  56.48  0.5714  0.1669   0.2617  ...   \n",
       "2            Leicester City  53.57  66.81  0.3459  0.3621   0.2921  ...   \n",
       "3      West Bromwich Albion  55.19  58.66  0.4214  0.2939   0.2847  ...   \n",
       "4         Tottenham Hotspur  68.02  73.25  0.3910  0.3401   0.2689  ...   \n",
       "...                     ...    ...    ...     ...     ...      ...  ...   \n",
       "32246                 Eibar  73.84  73.46  0.4872  0.2588   0.2540  ...   \n",
       "32247        Extremadura UD  36.80  31.54  0.4904  0.2091   0.3004  ...   \n",
       "32248              Tenerife  29.52  30.98  0.4367  0.2657   0.2977  ...   \n",
       "32249           Real Oviedo  32.18  30.04  0.4768  0.2473   0.2759  ...   \n",
       "32250       SD Ponferradina  37.74  29.92  0.5405  0.2037   0.2558  ...   \n",
       "\n",
       "       importance1  importance2  score1  score2   xg1   xg2  nsxg1  nsxg2  \\\n",
       "0             32.4         67.7     0.0     1.0  0.97  0.63   0.43   0.45   \n",
       "1             53.7         22.9     2.0     2.0  2.45  0.77   1.75   0.42   \n",
       "2             38.1         22.2     2.0     1.0  0.85  2.77   0.17   1.25   \n",
       "3             43.6         34.6     0.0     1.0  1.11  0.68   0.84   1.60   \n",
       "4             31.9         48.0     1.0     1.0  0.73  1.11   0.88   1.81   \n",
       "...            ...          ...     ...     ...   ...   ...    ...    ...   \n",
       "32246          NaN          NaN     NaN     NaN   NaN   NaN    NaN    NaN   \n",
       "32247          NaN          NaN     NaN     NaN   NaN   NaN    NaN    NaN   \n",
       "32248          NaN          NaN     NaN     NaN   NaN   NaN    NaN    NaN   \n",
       "32249          NaN          NaN     NaN     NaN   NaN   NaN    NaN    NaN   \n",
       "32250          NaN          NaN     NaN     NaN   NaN   NaN    NaN    NaN   \n",
       "\n",
       "       adj_score1  adj_score2  \n",
       "0            0.00        1.05  \n",
       "1            2.10        2.10  \n",
       "2            2.10        1.05  \n",
       "3            0.00        1.05  \n",
       "4            1.05        1.05  \n",
       "...           ...         ...  \n",
       "32246         NaN         NaN  \n",
       "32247         NaN         NaN  \n",
       "32248         NaN         NaN  \n",
       "32249         NaN         NaN  \n",
       "32250         NaN         NaN  \n",
       "\n",
       "[32251 rows x 22 columns]"
      ]
     },
     "execution_count": 2,
     "metadata": {},
     "output_type": "execute_result"
    }
   ],
   "source": [
    "spi_matches\n"
=======
       "</div>"
      ],
      "text/plain": [
       "             date  league_id                    league          team1  \\\n",
       "32246  2020-05-24       1869  Spanish Primera Division     Villarreal   \n",
       "32247  2020-05-24       1871  Spanish Segunda Division     Las Palmas   \n",
       "32248  2020-05-24       1871  Spanish Segunda Division       Numancia   \n",
       "32249  2020-05-24       1871  Spanish Segunda Division          Elche   \n",
       "32250  2020-05-24       1871  Spanish Segunda Division  Real Zaragoza   \n",
       "\n",
       "                 team2   spi1   spi2   prob1   prob2  probtie  proj_score1  \\\n",
       "32246            Eibar  73.84  73.46  0.4872  0.2588   0.2540         1.64   \n",
       "32247   Extremadura UD  36.80  31.54  0.4904  0.2091   0.3004         1.38   \n",
       "32248         Tenerife  29.52  30.98  0.4367  0.2657   0.2977         1.36   \n",
       "32249      Real Oviedo  32.18  30.04  0.4768  0.2473   0.2759         1.56   \n",
       "32250  SD Ponferradina  37.74  29.92  0.5405  0.2037   0.2558         1.76   \n",
       "\n",
       "       proj_score2  importance1  importance2  score1  score2  xg1  xg2  nsxg1  \\\n",
       "32246         1.13          NaN          NaN     NaN     NaN  NaN  NaN    NaN   \n",
       "32247         0.80          NaN          NaN     NaN     NaN  NaN  NaN    NaN   \n",
       "32248         0.99          NaN          NaN     NaN     NaN  NaN  NaN    NaN   \n",
       "32249         1.05          NaN          NaN     NaN     NaN  NaN  NaN    NaN   \n",
       "32250         0.98          NaN          NaN     NaN     NaN  NaN  NaN    NaN   \n",
       "\n",
       "       nsxg2  adj_score1  adj_score2  \n",
       "32246    NaN         NaN         NaN  \n",
       "32247    NaN         NaN         NaN  \n",
       "32248    NaN         NaN         NaN  \n",
       "32249    NaN         NaN         NaN  \n",
       "32250    NaN         NaN         NaN  "
      ]
     },
     "metadata": {},
     "output_type": "display_data"
    }
   ],
   "source": [
    "pd.set_option('display.max_columns', None)\n",
    "display(spi_matches.tail())\n"
>>>>>>> e31dfd3c9b1f508a6c233b0c6c116f73e23bcc08
   ]
  },
  {
   "cell_type": "code",
   "execution_count": 3,
   "metadata": {},
   "outputs": [
    {
     "data": {
<<<<<<< HEAD
=======
      "text/plain": [
       "(32251, 22)"
      ]
     },
     "execution_count": 3,
     "metadata": {},
     "output_type": "execute_result"
    }
   ],
   "source": [
    "spi_matches.shape"
   ]
  },
  {
   "cell_type": "markdown",
   "metadata": {},
   "source": [
    "* We notice that the data frame has 32,251 rows and 22 columns."
   ]
  },
  {
   "cell_type": "code",
   "execution_count": 4,
   "metadata": {},
   "outputs": [
    {
     "data": {
>>>>>>> e31dfd3c9b1f508a6c233b0c6c116f73e23bcc08
      "text/html": [
       "<div>\n",
       "<style scoped>\n",
       "    .dataframe tbody tr th:only-of-type {\n",
       "        vertical-align: middle;\n",
       "    }\n",
       "\n",
       "    .dataframe tbody tr th {\n",
       "        vertical-align: top;\n",
       "    }\n",
       "\n",
       "    .dataframe thead th {\n",
       "        text-align: right;\n",
       "    }\n",
       "</style>\n",
       "<table border=\"1\" class=\"dataframe\">\n",
       "  <thead>\n",
       "    <tr style=\"text-align: right;\">\n",
       "      <th></th>\n",
       "      <th>rank</th>\n",
       "      <th>prev_rank</th>\n",
       "      <th>name</th>\n",
       "      <th>league</th>\n",
       "      <th>off</th>\n",
       "      <th>def</th>\n",
       "      <th>spi</th>\n",
       "    </tr>\n",
       "  </thead>\n",
       "  <tbody>\n",
       "    <tr>\n",
<<<<<<< HEAD
       "      <td>0</td>\n",
=======
       "      <th>0</th>\n",
>>>>>>> e31dfd3c9b1f508a6c233b0c6c116f73e23bcc08
       "      <td>1</td>\n",
       "      <td>1.0</td>\n",
       "      <td>Manchester City</td>\n",
       "      <td>Barclays Premier League</td>\n",
       "      <td>3.29</td>\n",
       "      <td>0.22</td>\n",
       "      <td>95.22</td>\n",
       "    </tr>\n",
       "    <tr>\n",
<<<<<<< HEAD
       "      <td>1</td>\n",
=======
       "      <th>1</th>\n",
>>>>>>> e31dfd3c9b1f508a6c233b0c6c116f73e23bcc08
       "      <td>2</td>\n",
       "      <td>2.0</td>\n",
       "      <td>Bayern Munich</td>\n",
       "      <td>German Bundesliga</td>\n",
       "      <td>3.22</td>\n",
       "      <td>0.36</td>\n",
       "      <td>93.30</td>\n",
       "    </tr>\n",
       "    <tr>\n",
<<<<<<< HEAD
       "      <td>2</td>\n",
=======
       "      <th>2</th>\n",
>>>>>>> e31dfd3c9b1f508a6c233b0c6c116f73e23bcc08
       "      <td>3</td>\n",
       "      <td>3.0</td>\n",
       "      <td>Liverpool</td>\n",
       "      <td>Barclays Premier League</td>\n",
       "      <td>2.92</td>\n",
       "      <td>0.27</td>\n",
       "      <td>92.78</td>\n",
       "    </tr>\n",
       "    <tr>\n",
<<<<<<< HEAD
       "      <td>3</td>\n",
=======
       "      <th>3</th>\n",
>>>>>>> e31dfd3c9b1f508a6c233b0c6c116f73e23bcc08
       "      <td>4</td>\n",
       "      <td>4.0</td>\n",
       "      <td>Paris Saint-Germain</td>\n",
       "      <td>French Ligue 1</td>\n",
       "      <td>2.75</td>\n",
       "      <td>0.41</td>\n",
       "      <td>89.51</td>\n",
       "    </tr>\n",
       "    <tr>\n",
<<<<<<< HEAD
       "      <td>4</td>\n",
=======
       "      <th>4</th>\n",
>>>>>>> e31dfd3c9b1f508a6c233b0c6c116f73e23bcc08
       "      <td>5</td>\n",
       "      <td>5.0</td>\n",
       "      <td>Barcelona</td>\n",
       "      <td>Spanish Primera Division</td>\n",
       "      <td>2.80</td>\n",
       "      <td>0.49</td>\n",
       "      <td>88.64</td>\n",
       "    </tr>\n",
<<<<<<< HEAD
       "    <tr>\n",
       "      <td>...</td>\n",
       "      <td>...</td>\n",
       "      <td>...</td>\n",
       "      <td>...</td>\n",
       "      <td>...</td>\n",
       "      <td>...</td>\n",
       "      <td>...</td>\n",
       "      <td>...</td>\n",
       "    </tr>\n",
       "    <tr>\n",
       "      <td>624</td>\n",
       "      <td>625</td>\n",
       "      <td>627.0</td>\n",
       "      <td>Macclesfield</td>\n",
       "      <td>English League Two</td>\n",
       "      <td>0.23</td>\n",
       "      <td>2.31</td>\n",
       "      <td>6.75</td>\n",
       "    </tr>\n",
       "    <tr>\n",
       "      <td>625</td>\n",
       "      <td>626</td>\n",
       "      <td>624.0</td>\n",
       "      <td>Walsall</td>\n",
       "      <td>English League Two</td>\n",
       "      <td>0.20</td>\n",
       "      <td>2.24</td>\n",
       "      <td>6.72</td>\n",
       "    </tr>\n",
       "    <tr>\n",
       "      <td>626</td>\n",
       "      <td>627</td>\n",
       "      <td>625.0</td>\n",
       "      <td>Port Vale</td>\n",
       "      <td>English League Two</td>\n",
       "      <td>0.22</td>\n",
       "      <td>2.34</td>\n",
       "      <td>6.50</td>\n",
       "    </tr>\n",
       "    <tr>\n",
       "      <td>627</td>\n",
       "      <td>628</td>\n",
       "      <td>626.0</td>\n",
       "      <td>Morecambe</td>\n",
       "      <td>English League Two</td>\n",
       "      <td>0.29</td>\n",
       "      <td>2.55</td>\n",
       "      <td>6.38</td>\n",
       "    </tr>\n",
       "    <tr>\n",
       "      <td>628</td>\n",
       "      <td>629</td>\n",
       "      <td>628.0</td>\n",
       "      <td>Colorado Springs Switchbacks FC</td>\n",
       "      <td>United Soccer League</td>\n",
       "      <td>0.20</td>\n",
       "      <td>2.46</td>\n",
       "      <td>5.53</td>\n",
       "    </tr>\n",
       "  </tbody>\n",
       "</table>\n",
       "<p>629 rows × 7 columns</p>\n",
       "</div>"
      ],
      "text/plain": [
       "     rank  prev_rank                             name  \\\n",
       "0       1        1.0                  Manchester City   \n",
       "1       2        2.0                    Bayern Munich   \n",
       "2       3        3.0                        Liverpool   \n",
       "3       4        4.0              Paris Saint-Germain   \n",
       "4       5        5.0                        Barcelona   \n",
       "..    ...        ...                              ...   \n",
       "624   625      627.0                     Macclesfield   \n",
       "625   626      624.0                          Walsall   \n",
       "626   627      625.0                        Port Vale   \n",
       "627   628      626.0                        Morecambe   \n",
       "628   629      628.0  Colorado Springs Switchbacks FC   \n",
       "\n",
       "                       league   off   def    spi  \n",
       "0     Barclays Premier League  3.29  0.22  95.22  \n",
       "1           German Bundesliga  3.22  0.36  93.30  \n",
       "2     Barclays Premier League  2.92  0.27  92.78  \n",
       "3              French Ligue 1  2.75  0.41  89.51  \n",
       "4    Spanish Primera Division  2.80  0.49  88.64  \n",
       "..                        ...   ...   ...    ...  \n",
       "624        English League Two  0.23  2.31   6.75  \n",
       "625        English League Two  0.20  2.24   6.72  \n",
       "626        English League Two  0.22  2.34   6.50  \n",
       "627        English League Two  0.29  2.55   6.38  \n",
       "628      United Soccer League  0.20  2.46   5.53  \n",
       "\n",
       "[629 rows x 7 columns]"
      ]
     },
     "execution_count": 3,
=======
       "  </tbody>\n",
       "</table>\n",
       "</div>"
      ],
      "text/plain": [
       "   rank  prev_rank                 name                    league   off   def  \\\n",
       "0     1        1.0      Manchester City   Barclays Premier League  3.29  0.22   \n",
       "1     2        2.0        Bayern Munich         German Bundesliga  3.22  0.36   \n",
       "2     3        3.0            Liverpool   Barclays Premier League  2.92  0.27   \n",
       "3     4        4.0  Paris Saint-Germain            French Ligue 1  2.75  0.41   \n",
       "4     5        5.0            Barcelona  Spanish Primera Division  2.80  0.49   \n",
       "\n",
       "     spi  \n",
       "0  95.22  \n",
       "1  93.30  \n",
       "2  92.78  \n",
       "3  89.51  \n",
       "4  88.64  "
      ]
     },
     "execution_count": 4,
>>>>>>> e31dfd3c9b1f508a6c233b0c6c116f73e23bcc08
     "metadata": {},
     "output_type": "execute_result"
    }
   ],
   "source": [
<<<<<<< HEAD
    "spi_global_teams\n"
=======
    "spi_global_teams.head()"
>>>>>>> e31dfd3c9b1f508a6c233b0c6c116f73e23bcc08
   ]
  },
  {
   "cell_type": "code",
<<<<<<< HEAD
   "execution_count": 4,
   "metadata": {},
=======
   "execution_count": 5,
   "metadata": {
    "scrolled": true
   },
>>>>>>> e31dfd3c9b1f508a6c233b0c6c116f73e23bcc08
   "outputs": [
    {
     "data": {
      "text/html": [
       "<div>\n",
       "<style scoped>\n",
       "    .dataframe tbody tr th:only-of-type {\n",
       "        vertical-align: middle;\n",
       "    }\n",
       "\n",
       "    .dataframe tbody tr th {\n",
       "        vertical-align: top;\n",
       "    }\n",
       "\n",
       "    .dataframe thead th {\n",
       "        text-align: right;\n",
       "    }\n",
       "</style>\n",
       "<table border=\"1\" class=\"dataframe\">\n",
       "  <thead>\n",
       "    <tr style=\"text-align: right;\">\n",
       "      <th></th>\n",
       "      <th>rank</th>\n",
       "      <th>name</th>\n",
       "      <th>confed</th>\n",
       "      <th>off</th>\n",
       "      <th>def</th>\n",
       "      <th>spi</th>\n",
       "    </tr>\n",
       "  </thead>\n",
       "  <tbody>\n",
       "    <tr>\n",
<<<<<<< HEAD
       "      <td>0</td>\n",
=======
       "      <th>0</th>\n",
>>>>>>> e31dfd3c9b1f508a6c233b0c6c116f73e23bcc08
       "      <td>1</td>\n",
       "      <td>Spain</td>\n",
       "      <td>UEFA</td>\n",
       "      <td>3.40</td>\n",
       "      <td>0.58</td>\n",
       "      <td>90.93</td>\n",
       "    </tr>\n",
       "    <tr>\n",
<<<<<<< HEAD
       "      <td>1</td>\n",
=======
       "      <th>1</th>\n",
>>>>>>> e31dfd3c9b1f508a6c233b0c6c116f73e23bcc08
       "      <td>2</td>\n",
       "      <td>Brazil</td>\n",
       "      <td>CONMEBOL</td>\n",
       "      <td>2.91</td>\n",
       "      <td>0.37</td>\n",
       "      <td>90.65</td>\n",
       "    </tr>\n",
       "    <tr>\n",
<<<<<<< HEAD
       "      <td>2</td>\n",
=======
       "      <th>2</th>\n",
>>>>>>> e31dfd3c9b1f508a6c233b0c6c116f73e23bcc08
       "      <td>3</td>\n",
       "      <td>Germany</td>\n",
       "      <td>UEFA</td>\n",
       "      <td>3.11</td>\n",
       "      <td>0.59</td>\n",
       "      <td>88.78</td>\n",
       "    </tr>\n",
       "    <tr>\n",
<<<<<<< HEAD
       "      <td>3</td>\n",
=======
       "      <th>3</th>\n",
>>>>>>> e31dfd3c9b1f508a6c233b0c6c116f73e23bcc08
       "      <td>4</td>\n",
       "      <td>Belgium</td>\n",
       "      <td>UEFA</td>\n",
       "      <td>2.95</td>\n",
       "      <td>0.56</td>\n",
       "      <td>87.97</td>\n",
       "    </tr>\n",
       "    <tr>\n",
<<<<<<< HEAD
       "      <td>4</td>\n",
=======
       "      <th>4</th>\n",
>>>>>>> e31dfd3c9b1f508a6c233b0c6c116f73e23bcc08
       "      <td>5</td>\n",
       "      <td>Argentina</td>\n",
       "      <td>CONMEBOL</td>\n",
       "      <td>2.57</td>\n",
       "      <td>0.42</td>\n",
       "      <td>86.98</td>\n",
       "    </tr>\n",
<<<<<<< HEAD
       "    <tr>\n",
       "      <td>...</td>\n",
       "      <td>...</td>\n",
       "      <td>...</td>\n",
       "      <td>...</td>\n",
       "      <td>...</td>\n",
       "      <td>...</td>\n",
       "      <td>...</td>\n",
       "    </tr>\n",
       "    <tr>\n",
       "      <td>211</td>\n",
       "      <td>212</td>\n",
       "      <td>Tuvalu</td>\n",
       "      <td>OFC</td>\n",
       "      <td>0.38</td>\n",
       "      <td>5.62</td>\n",
       "      <td>0.70</td>\n",
       "    </tr>\n",
       "    <tr>\n",
       "      <td>212</td>\n",
       "      <td>213</td>\n",
       "      <td>Timor-Leste</td>\n",
       "      <td>AFC</td>\n",
       "      <td>0.33</td>\n",
       "      <td>5.56</td>\n",
       "      <td>0.64</td>\n",
       "    </tr>\n",
       "    <tr>\n",
       "      <td>213</td>\n",
       "      <td>214</td>\n",
       "      <td>Macau</td>\n",
       "      <td>AFC</td>\n",
       "      <td>0.20</td>\n",
       "      <td>5.11</td>\n",
       "      <td>0.60</td>\n",
       "    </tr>\n",
       "    <tr>\n",
       "      <td>214</td>\n",
       "      <td>215</td>\n",
       "      <td>Samoa</td>\n",
       "      <td>OFC</td>\n",
       "      <td>0.20</td>\n",
       "      <td>5.78</td>\n",
       "      <td>0.34</td>\n",
       "    </tr>\n",
       "    <tr>\n",
       "      <td>215</td>\n",
       "      <td>216</td>\n",
       "      <td>Tonga</td>\n",
       "      <td>OFC</td>\n",
       "      <td>0.20</td>\n",
       "      <td>6.08</td>\n",
       "      <td>0.26</td>\n",
       "    </tr>\n",
       "  </tbody>\n",
       "</table>\n",
       "<p>216 rows × 6 columns</p>\n",
       "</div>"
      ],
      "text/plain": [
       "     rank         name    confed   off   def    spi\n",
       "0       1        Spain      UEFA  3.40  0.58  90.93\n",
       "1       2       Brazil  CONMEBOL  2.91  0.37  90.65\n",
       "2       3      Germany      UEFA  3.11  0.59  88.78\n",
       "3       4      Belgium      UEFA  2.95  0.56  87.97\n",
       "4       5    Argentina  CONMEBOL  2.57  0.42  86.98\n",
       "..    ...          ...       ...   ...   ...    ...\n",
       "211   212       Tuvalu       OFC  0.38  5.62   0.70\n",
       "212   213  Timor-Leste       AFC  0.33  5.56   0.64\n",
       "213   214        Macau       AFC  0.20  5.11   0.60\n",
       "214   215        Samoa       OFC  0.20  5.78   0.34\n",
       "215   216        Tonga       OFC  0.20  6.08   0.26\n",
       "\n",
       "[216 rows x 6 columns]"
      ]
     },
     "execution_count": 4,
=======
       "  </tbody>\n",
       "</table>\n",
       "</div>"
      ],
      "text/plain": [
       "   rank       name    confed   off   def    spi\n",
       "0     1      Spain      UEFA  3.40  0.58  90.93\n",
       "1     2     Brazil  CONMEBOL  2.91  0.37  90.65\n",
       "2     3    Germany      UEFA  3.11  0.59  88.78\n",
       "3     4    Belgium      UEFA  2.95  0.56  87.97\n",
       "4     5  Argentina  CONMEBOL  2.57  0.42  86.98"
      ]
     },
     "execution_count": 5,
>>>>>>> e31dfd3c9b1f508a6c233b0c6c116f73e23bcc08
     "metadata": {},
     "output_type": "execute_result"
    }
   ],
   "source": [
<<<<<<< HEAD
    "spi_global_nations"
=======
    "spi_global_nations.head()"
>>>>>>> e31dfd3c9b1f508a6c233b0c6c116f73e23bcc08
   ]
  },
  {
   "cell_type": "markdown",
   "metadata": {},
   "source": [
    "* The spi global nations isn't very relevant to our case since we are interested in predicting scores for local teams."
   ]
  },
  {
<<<<<<< HEAD
   "cell_type": "code",
   "execution_count": 5,
   "metadata": {},
   "outputs": [
    {
     "data": {
      "text/plain": [
       "(32251, 22)"
      ]
     },
     "execution_count": 5,
     "metadata": {},
     "output_type": "execute_result"
    }
   ],
   "source": [
    "spi_matches.shape"
=======
   "cell_type": "markdown",
   "metadata": {},
   "source": [
    "* Now we will drop irrelevant columns in the dataframe using the following command"
   ]
  },
  {
   "cell_type": "code",
   "execution_count": 25,
   "metadata": {},
   "outputs": [],
   "source": [
    "spi_matches.drop(columns=['date','league_id','league']);"
>>>>>>> e31dfd3c9b1f508a6c233b0c6c116f73e23bcc08
   ]
  },
  {
   "cell_type": "code",
<<<<<<< HEAD
   "execution_count": 6,
=======
   "execution_count": 7,
>>>>>>> e31dfd3c9b1f508a6c233b0c6c116f73e23bcc08
   "metadata": {
    "scrolled": false
   },
   "outputs": [
    {
     "data": {
      "text/html": [
       "<div>\n",
       "<style scoped>\n",
       "    .dataframe tbody tr th:only-of-type {\n",
       "        vertical-align: middle;\n",
       "    }\n",
       "\n",
       "    .dataframe tbody tr th {\n",
       "        vertical-align: top;\n",
       "    }\n",
       "\n",
       "    .dataframe thead th {\n",
       "        text-align: right;\n",
       "    }\n",
       "</style>\n",
       "<table border=\"1\" class=\"dataframe\">\n",
       "  <thead>\n",
       "    <tr style=\"text-align: right;\">\n",
       "      <th></th>\n",
       "      <th>league_id</th>\n",
       "      <th>spi1</th>\n",
       "      <th>spi2</th>\n",
       "      <th>prob1</th>\n",
       "      <th>prob2</th>\n",
       "      <th>probtie</th>\n",
       "      <th>proj_score1</th>\n",
       "      <th>proj_score2</th>\n",
       "      <th>importance1</th>\n",
       "      <th>importance2</th>\n",
       "      <th>score1</th>\n",
       "      <th>score2</th>\n",
       "      <th>xg1</th>\n",
       "      <th>xg2</th>\n",
       "      <th>nsxg1</th>\n",
       "      <th>nsxg2</th>\n",
       "      <th>adj_score1</th>\n",
       "      <th>adj_score2</th>\n",
       "    </tr>\n",
       "  </thead>\n",
       "  <tbody>\n",
       "    <tr>\n",
<<<<<<< HEAD
       "      <td>count</td>\n",
=======
       "      <th>count</th>\n",
>>>>>>> e31dfd3c9b1f508a6c233b0c6c116f73e23bcc08
       "      <td>32251.000000</td>\n",
       "      <td>32251.000000</td>\n",
       "      <td>32251.00000</td>\n",
       "      <td>32251.000000</td>\n",
       "      <td>32251.000000</td>\n",
       "      <td>32251.000000</td>\n",
       "      <td>32251.000000</td>\n",
       "      <td>32251.000000</td>\n",
       "      <td>21629.000000</td>\n",
       "      <td>21629.000000</td>\n",
       "      <td>25825.000000</td>\n",
       "      <td>25825.000000</td>\n",
       "      <td>14181.000000</td>\n",
       "      <td>14181.000000</td>\n",
       "      <td>14181.000000</td>\n",
       "      <td>14181.000000</td>\n",
       "      <td>14181.000000</td>\n",
       "      <td>14181.000000</td>\n",
       "    </tr>\n",
       "    <tr>\n",
<<<<<<< HEAD
       "      <td>mean</td>\n",
=======
       "      <th>mean</th>\n",
>>>>>>> e31dfd3c9b1f508a6c233b0c6c116f73e23bcc08
       "      <td>2135.210691</td>\n",
       "      <td>45.066728</td>\n",
       "      <td>45.01814</td>\n",
       "      <td>0.452426</td>\n",
       "      <td>0.294348</td>\n",
       "      <td>0.253226</td>\n",
       "      <td>1.528278</td>\n",
       "      <td>1.156169</td>\n",
       "      <td>31.074886</td>\n",
       "      <td>30.365537</td>\n",
       "      <td>1.532933</td>\n",
       "      <td>1.169952</td>\n",
       "      <td>1.500204</td>\n",
       "      <td>1.148975</td>\n",
       "      <td>1.416583</td>\n",
       "      <td>1.128834</td>\n",
       "      <td>1.550166</td>\n",
       "      <td>1.176223</td>\n",
       "    </tr>\n",
       "    <tr>\n",
<<<<<<< HEAD
       "      <td>std</td>\n",
=======
       "      <th>std</th>\n",
>>>>>>> e31dfd3c9b1f508a6c233b0c6c116f73e23bcc08
       "      <td>707.371437</td>\n",
       "      <td>19.012871</td>\n",
       "      <td>18.99903</td>\n",
       "      <td>0.158424</td>\n",
       "      <td>0.142470</td>\n",
       "      <td>0.047001</td>\n",
       "      <td>0.428594</td>\n",
       "      <td>0.421931</td>\n",
       "      <td>25.957990</td>\n",
       "      <td>25.566858</td>\n",
       "      <td>1.282119</td>\n",
       "      <td>1.134453</td>\n",
       "      <td>0.826591</td>\n",
       "      <td>0.720711</td>\n",
       "      <td>0.651157</td>\n",
       "      <td>0.568315</td>\n",
       "      <td>1.251790</td>\n",
       "      <td>1.122378</td>\n",
       "    </tr>\n",
       "    <tr>\n",
<<<<<<< HEAD
       "      <td>min</td>\n",
=======
       "      <th>min</th>\n",
>>>>>>> e31dfd3c9b1f508a6c233b0c6c116f73e23bcc08
       "      <td>1818.000000</td>\n",
       "      <td>3.880000</td>\n",
       "      <td>4.04000</td>\n",
       "      <td>0.027100</td>\n",
       "      <td>0.003200</td>\n",
       "      <td>0.000000</td>\n",
       "      <td>0.250000</td>\n",
       "      <td>0.200000</td>\n",
       "      <td>0.000000</td>\n",
       "      <td>0.000000</td>\n",
       "      <td>0.000000</td>\n",
       "      <td>0.000000</td>\n",
       "      <td>0.000000</td>\n",
       "      <td>0.000000</td>\n",
       "      <td>0.000000</td>\n",
       "      <td>0.000000</td>\n",
       "      <td>0.000000</td>\n",
       "      <td>0.000000</td>\n",
       "    </tr>\n",
       "    <tr>\n",
<<<<<<< HEAD
       "      <td>25%</td>\n",
=======
       "      <th>25%</th>\n",
>>>>>>> e31dfd3c9b1f508a6c233b0c6c116f73e23bcc08
       "      <td>1849.000000</td>\n",
       "      <td>31.310000</td>\n",
       "      <td>31.32000</td>\n",
       "      <td>0.352350</td>\n",
       "      <td>0.201300</td>\n",
       "      <td>0.235100</td>\n",
       "      <td>1.250000</td>\n",
       "      <td>0.890000</td>\n",
       "      <td>10.700000</td>\n",
       "      <td>10.300000</td>\n",
       "      <td>1.000000</td>\n",
       "      <td>0.000000</td>\n",
       "      <td>0.880000</td>\n",
       "      <td>0.610000</td>\n",
       "      <td>0.960000</td>\n",
       "      <td>0.730000</td>\n",
       "      <td>1.050000</td>\n",
       "      <td>0.000000</td>\n",
       "    </tr>\n",
       "    <tr>\n",
<<<<<<< HEAD
       "      <td>50%</td>\n",
=======
       "      <th>50%</th>\n",
>>>>>>> e31dfd3c9b1f508a6c233b0c6c116f73e23bcc08
       "      <td>1871.000000</td>\n",
       "      <td>42.920000</td>\n",
       "      <td>42.81000</td>\n",
       "      <td>0.444000</td>\n",
       "      <td>0.278500</td>\n",
       "      <td>0.261000</td>\n",
       "      <td>1.460000</td>\n",
       "      <td>1.110000</td>\n",
       "      <td>25.900000</td>\n",
       "      <td>25.100000</td>\n",
       "      <td>1.000000</td>\n",
       "      <td>1.000000</td>\n",
       "      <td>1.370000</td>\n",
       "      <td>1.020000</td>\n",
       "      <td>1.320000</td>\n",
       "      <td>1.040000</td>\n",
       "      <td>1.050000</td>\n",
       "      <td>1.050000</td>\n",
       "    </tr>\n",
       "    <tr>\n",
<<<<<<< HEAD
       "      <td>75%</td>\n",
=======
       "      <th>75%</th>\n",
>>>>>>> e31dfd3c9b1f508a6c233b0c6c116f73e23bcc08
       "      <td>2160.000000</td>\n",
       "      <td>58.520000</td>\n",
       "      <td>58.42000</td>\n",
       "      <td>0.541500</td>\n",
       "      <td>0.368400</td>\n",
       "      <td>0.282100</td>\n",
       "      <td>1.730000</td>\n",
       "      <td>1.370000</td>\n",
       "      <td>45.100000</td>\n",
       "      <td>44.200000</td>\n",
       "      <td>2.000000</td>\n",
       "      <td>2.000000</td>\n",
       "      <td>1.970000</td>\n",
       "      <td>1.540000</td>\n",
       "      <td>1.760000</td>\n",
       "      <td>1.430000</td>\n",
       "      <td>2.100000</td>\n",
       "      <td>2.100000</td>\n",
       "    </tr>\n",
       "    <tr>\n",
<<<<<<< HEAD
       "      <td>max</td>\n",
=======
       "      <th>max</th>\n",
>>>>>>> e31dfd3c9b1f508a6c233b0c6c116f73e23bcc08
       "      <td>5641.000000</td>\n",
       "      <td>96.570000</td>\n",
       "      <td>96.78000</td>\n",
       "      <td>0.977500</td>\n",
       "      <td>0.899500</td>\n",
       "      <td>0.453700</td>\n",
       "      <td>4.900000</td>\n",
       "      <td>4.220000</td>\n",
       "      <td>100.000000</td>\n",
       "      <td>100.000000</td>\n",
       "      <td>10.000000</td>\n",
       "      <td>8.000000</td>\n",
       "      <td>7.070000</td>\n",
       "      <td>6.200000</td>\n",
       "      <td>6.580000</td>\n",
       "      <td>5.920000</td>\n",
       "      <td>9.150000</td>\n",
       "      <td>7.930000</td>\n",
       "    </tr>\n",
       "  </tbody>\n",
       "</table>\n",
       "</div>"
      ],
      "text/plain": [
       "          league_id          spi1         spi2         prob1         prob2  \\\n",
       "count  32251.000000  32251.000000  32251.00000  32251.000000  32251.000000   \n",
       "mean    2135.210691     45.066728     45.01814      0.452426      0.294348   \n",
       "std      707.371437     19.012871     18.99903      0.158424      0.142470   \n",
       "min     1818.000000      3.880000      4.04000      0.027100      0.003200   \n",
       "25%     1849.000000     31.310000     31.32000      0.352350      0.201300   \n",
       "50%     1871.000000     42.920000     42.81000      0.444000      0.278500   \n",
       "75%     2160.000000     58.520000     58.42000      0.541500      0.368400   \n",
       "max     5641.000000     96.570000     96.78000      0.977500      0.899500   \n",
       "\n",
       "            probtie   proj_score1   proj_score2   importance1   importance2  \\\n",
       "count  32251.000000  32251.000000  32251.000000  21629.000000  21629.000000   \n",
       "mean       0.253226      1.528278      1.156169     31.074886     30.365537   \n",
       "std        0.047001      0.428594      0.421931     25.957990     25.566858   \n",
       "min        0.000000      0.250000      0.200000      0.000000      0.000000   \n",
       "25%        0.235100      1.250000      0.890000     10.700000     10.300000   \n",
       "50%        0.261000      1.460000      1.110000     25.900000     25.100000   \n",
       "75%        0.282100      1.730000      1.370000     45.100000     44.200000   \n",
       "max        0.453700      4.900000      4.220000    100.000000    100.000000   \n",
       "\n",
       "             score1        score2           xg1           xg2         nsxg1  \\\n",
       "count  25825.000000  25825.000000  14181.000000  14181.000000  14181.000000   \n",
       "mean       1.532933      1.169952      1.500204      1.148975      1.416583   \n",
       "std        1.282119      1.134453      0.826591      0.720711      0.651157   \n",
       "min        0.000000      0.000000      0.000000      0.000000      0.000000   \n",
       "25%        1.000000      0.000000      0.880000      0.610000      0.960000   \n",
       "50%        1.000000      1.000000      1.370000      1.020000      1.320000   \n",
       "75%        2.000000      2.000000      1.970000      1.540000      1.760000   \n",
       "max       10.000000      8.000000      7.070000      6.200000      6.580000   \n",
       "\n",
       "              nsxg2    adj_score1    adj_score2  \n",
       "count  14181.000000  14181.000000  14181.000000  \n",
       "mean       1.128834      1.550166      1.176223  \n",
       "std        0.568315      1.251790      1.122378  \n",
       "min        0.000000      0.000000      0.000000  \n",
       "25%        0.730000      1.050000      0.000000  \n",
       "50%        1.040000      1.050000      1.050000  \n",
       "75%        1.430000      2.100000      2.100000  \n",
       "max        5.920000      9.150000      7.930000  "
      ]
     },
<<<<<<< HEAD
     "execution_count": 6,
=======
     "execution_count": 7,
>>>>>>> e31dfd3c9b1f508a6c233b0c6c116f73e23bcc08
     "metadata": {},
     "output_type": "execute_result"
    }
   ],
   "source": [
    "spi_matches.describe()"
   ]
  },
  {
   "cell_type": "markdown",
   "metadata": {},
   "source": [
<<<<<<< HEAD
    "* Now we will merge the spi matches with the spi_gloabl_teams in order to get the offensive rating for teams"
=======
    "* Now we will merge the spi matches with the spi_gloabl_teams in order to get the offensive rating for teams playing the game"
>>>>>>> e31dfd3c9b1f508a6c233b0c6c116f73e23bcc08
   ]
  },
  {
   "cell_type": "code",
<<<<<<< HEAD
   "execution_count": 7,
=======
   "execution_count": 8,
>>>>>>> e31dfd3c9b1f508a6c233b0c6c116f73e23bcc08
   "metadata": {},
   "outputs": [],
   "source": [
    "spi_matches1 = pd.merge(spi_matches, spi_global_teams[['name','off']], left_on='team1', right_on=\"name\",how='left')"
   ]
  },
  {
   "cell_type": "code",
<<<<<<< HEAD
   "execution_count": 8,
=======
   "execution_count": 9,
>>>>>>> e31dfd3c9b1f508a6c233b0c6c116f73e23bcc08
   "metadata": {},
   "outputs": [],
   "source": [
    "spi_matches1.rename(columns={\"off\": \"off_team1\"})\n",
    "del spi_matches1['name']"
   ]
  },
  {
   "cell_type": "code",
<<<<<<< HEAD
   "execution_count": 9,
=======
   "execution_count": 10,
>>>>>>> e31dfd3c9b1f508a6c233b0c6c116f73e23bcc08
   "metadata": {},
   "outputs": [],
   "source": [
    "spi_matches2 = pd.merge(spi_matches1, spi_global_teams[['name','off']], left_on='team2', right_on=\"name\",how='left')"
   ]
  },
  {
   "cell_type": "code",
<<<<<<< HEAD
   "execution_count": 10,
=======
   "execution_count": 11,
   "metadata": {},
   "outputs": [
    {
     "data": {
      "text/plain": [
       "Index(['date', 'league_id', 'league', 'team1', 'team2', 'spi1', 'spi2',\n",
       "       'prob1', 'prob2', 'probtie', 'proj_score1', 'proj_score2',\n",
       "       'importance1', 'importance2', 'score1', 'score2', 'xg1', 'xg2', 'nsxg1',\n",
       "       'nsxg2', 'adj_score1', 'adj_score2', 'off_x', 'name', 'off_y'],\n",
       "      dtype='object')"
      ]
     },
     "execution_count": 11,
     "metadata": {},
     "output_type": "execute_result"
    }
   ],
   "source": [
    "spi_matches2.columns"
   ]
  },
  {
   "cell_type": "code",
   "execution_count": 12,
>>>>>>> e31dfd3c9b1f508a6c233b0c6c116f73e23bcc08
   "metadata": {
    "scrolled": true
   },
   "outputs": [
    {
     "data": {
      "text/html": [
       "<div>\n",
       "<style scoped>\n",
       "    .dataframe tbody tr th:only-of-type {\n",
       "        vertical-align: middle;\n",
       "    }\n",
       "\n",
       "    .dataframe tbody tr th {\n",
       "        vertical-align: top;\n",
       "    }\n",
       "\n",
       "    .dataframe thead th {\n",
       "        text-align: right;\n",
       "    }\n",
       "</style>\n",
       "<table border=\"1\" class=\"dataframe\">\n",
       "  <thead>\n",
       "    <tr style=\"text-align: right;\">\n",
       "      <th></th>\n",
       "      <th>date</th>\n",
       "      <th>league_id</th>\n",
       "      <th>league</th>\n",
       "      <th>team1</th>\n",
       "      <th>team2</th>\n",
       "      <th>spi1</th>\n",
       "      <th>spi2</th>\n",
       "      <th>prob1</th>\n",
       "      <th>prob2</th>\n",
       "      <th>probtie</th>\n",
<<<<<<< HEAD
       "      <th>...</th>\n",
=======
       "      <th>proj_score1</th>\n",
       "      <th>proj_score2</th>\n",
       "      <th>importance1</th>\n",
       "      <th>importance2</th>\n",
       "      <th>score1</th>\n",
>>>>>>> e31dfd3c9b1f508a6c233b0c6c116f73e23bcc08
       "      <th>score2</th>\n",
       "      <th>xg1</th>\n",
       "      <th>xg2</th>\n",
       "      <th>nsxg1</th>\n",
       "      <th>nsxg2</th>\n",
       "      <th>adj_score1</th>\n",
       "      <th>adj_score2</th>\n",
       "      <th>off_x</th>\n",
       "      <th>name</th>\n",
       "      <th>off_y</th>\n",
       "    </tr>\n",
       "  </thead>\n",
       "  <tbody>\n",
       "    <tr>\n",
<<<<<<< HEAD
       "      <td>0</td>\n",
=======
       "      <th>0</th>\n",
>>>>>>> e31dfd3c9b1f508a6c233b0c6c116f73e23bcc08
       "      <td>2016-08-12</td>\n",
       "      <td>1843</td>\n",
       "      <td>French Ligue 1</td>\n",
       "      <td>Bastia</td>\n",
       "      <td>Paris Saint-Germain</td>\n",
       "      <td>51.16</td>\n",
       "      <td>85.68</td>\n",
       "      <td>0.0463</td>\n",
       "      <td>0.8380</td>\n",
       "      <td>0.1157</td>\n",
<<<<<<< HEAD
       "      <td>...</td>\n",
=======
       "      <td>0.91</td>\n",
       "      <td>2.36</td>\n",
       "      <td>32.4</td>\n",
       "      <td>67.7</td>\n",
       "      <td>0.0</td>\n",
>>>>>>> e31dfd3c9b1f508a6c233b0c6c116f73e23bcc08
       "      <td>1.0</td>\n",
       "      <td>0.97</td>\n",
       "      <td>0.63</td>\n",
       "      <td>0.43</td>\n",
       "      <td>0.45</td>\n",
       "      <td>0.00</td>\n",
       "      <td>1.05</td>\n",
       "      <td>NaN</td>\n",
       "      <td>Paris Saint-Germain</td>\n",
       "      <td>2.75</td>\n",
       "    </tr>\n",
       "    <tr>\n",
<<<<<<< HEAD
       "      <td>1</td>\n",
=======
       "      <th>1</th>\n",
>>>>>>> e31dfd3c9b1f508a6c233b0c6c116f73e23bcc08
       "      <td>2016-08-12</td>\n",
       "      <td>1843</td>\n",
       "      <td>French Ligue 1</td>\n",
       "      <td>AS Monaco</td>\n",
       "      <td>Guingamp</td>\n",
       "      <td>68.85</td>\n",
       "      <td>56.48</td>\n",
       "      <td>0.5714</td>\n",
       "      <td>0.1669</td>\n",
       "      <td>0.2617</td>\n",
<<<<<<< HEAD
       "      <td>...</td>\n",
=======
       "      <td>1.82</td>\n",
       "      <td>0.86</td>\n",
       "      <td>53.7</td>\n",
       "      <td>22.9</td>\n",
       "      <td>2.0</td>\n",
>>>>>>> e31dfd3c9b1f508a6c233b0c6c116f73e23bcc08
       "      <td>2.0</td>\n",
       "      <td>2.45</td>\n",
       "      <td>0.77</td>\n",
       "      <td>1.75</td>\n",
       "      <td>0.42</td>\n",
       "      <td>2.10</td>\n",
       "      <td>2.10</td>\n",
       "      <td>1.85</td>\n",
       "      <td>Guingamp</td>\n",
       "      <td>1.35</td>\n",
       "    </tr>\n",
       "    <tr>\n",
<<<<<<< HEAD
       "      <td>2</td>\n",
=======
       "      <th>2</th>\n",
>>>>>>> e31dfd3c9b1f508a6c233b0c6c116f73e23bcc08
       "      <td>2016-08-13</td>\n",
       "      <td>2411</td>\n",
       "      <td>Barclays Premier League</td>\n",
       "      <td>Hull City</td>\n",
       "      <td>Leicester City</td>\n",
       "      <td>53.57</td>\n",
       "      <td>66.81</td>\n",
       "      <td>0.3459</td>\n",
       "      <td>0.3621</td>\n",
       "      <td>0.2921</td>\n",
<<<<<<< HEAD
       "      <td>...</td>\n",
=======
       "      <td>1.16</td>\n",
       "      <td>1.24</td>\n",
       "      <td>38.1</td>\n",
       "      <td>22.2</td>\n",
       "      <td>2.0</td>\n",
>>>>>>> e31dfd3c9b1f508a6c233b0c6c116f73e23bcc08
       "      <td>1.0</td>\n",
       "      <td>0.85</td>\n",
       "      <td>2.77</td>\n",
       "      <td>0.17</td>\n",
       "      <td>1.25</td>\n",
       "      <td>2.10</td>\n",
       "      <td>1.05</td>\n",
       "      <td>1.34</td>\n",
       "      <td>Leicester City</td>\n",
       "      <td>2.01</td>\n",
       "    </tr>\n",
       "    <tr>\n",
<<<<<<< HEAD
       "      <td>3</td>\n",
=======
       "      <th>3</th>\n",
>>>>>>> e31dfd3c9b1f508a6c233b0c6c116f73e23bcc08
       "      <td>2016-08-13</td>\n",
       "      <td>2411</td>\n",
       "      <td>Barclays Premier League</td>\n",
       "      <td>Crystal Palace</td>\n",
       "      <td>West Bromwich Albion</td>\n",
       "      <td>55.19</td>\n",
       "      <td>58.66</td>\n",
       "      <td>0.4214</td>\n",
       "      <td>0.2939</td>\n",
       "      <td>0.2847</td>\n",
<<<<<<< HEAD
       "      <td>...</td>\n",
=======
       "      <td>1.35</td>\n",
       "      <td>1.14</td>\n",
       "      <td>43.6</td>\n",
       "      <td>34.6</td>\n",
       "      <td>0.0</td>\n",
>>>>>>> e31dfd3c9b1f508a6c233b0c6c116f73e23bcc08
       "      <td>1.0</td>\n",
       "      <td>1.11</td>\n",
       "      <td>0.68</td>\n",
       "      <td>0.84</td>\n",
       "      <td>1.60</td>\n",
       "      <td>0.00</td>\n",
       "      <td>1.05</td>\n",
       "      <td>1.90</td>\n",
       "      <td>West Bromwich Albion</td>\n",
       "      <td>1.66</td>\n",
       "    </tr>\n",
       "    <tr>\n",
<<<<<<< HEAD
       "      <td>4</td>\n",
=======
       "      <th>4</th>\n",
>>>>>>> e31dfd3c9b1f508a6c233b0c6c116f73e23bcc08
       "      <td>2016-08-13</td>\n",
       "      <td>2411</td>\n",
       "      <td>Barclays Premier League</td>\n",
       "      <td>Everton</td>\n",
       "      <td>Tottenham Hotspur</td>\n",
       "      <td>68.02</td>\n",
       "      <td>73.25</td>\n",
       "      <td>0.3910</td>\n",
       "      <td>0.3401</td>\n",
       "      <td>0.2689</td>\n",
<<<<<<< HEAD
       "      <td>...</td>\n",
=======
       "      <td>1.47</td>\n",
       "      <td>1.38</td>\n",
       "      <td>31.9</td>\n",
       "      <td>48.0</td>\n",
       "      <td>1.0</td>\n",
>>>>>>> e31dfd3c9b1f508a6c233b0c6c116f73e23bcc08
       "      <td>1.0</td>\n",
       "      <td>0.73</td>\n",
       "      <td>1.11</td>\n",
       "      <td>0.88</td>\n",
       "      <td>1.81</td>\n",
       "      <td>1.05</td>\n",
       "      <td>1.05</td>\n",
       "      <td>1.98</td>\n",
       "      <td>Tottenham Hotspur</td>\n",
       "      <td>2.33</td>\n",
       "    </tr>\n",
<<<<<<< HEAD
       "    <tr>\n",
       "      <td>...</td>\n",
       "      <td>...</td>\n",
       "      <td>...</td>\n",
       "      <td>...</td>\n",
       "      <td>...</td>\n",
       "      <td>...</td>\n",
       "      <td>...</td>\n",
       "      <td>...</td>\n",
       "      <td>...</td>\n",
       "      <td>...</td>\n",
       "      <td>...</td>\n",
       "      <td>...</td>\n",
       "      <td>...</td>\n",
       "      <td>...</td>\n",
       "      <td>...</td>\n",
       "      <td>...</td>\n",
       "      <td>...</td>\n",
       "      <td>...</td>\n",
       "      <td>...</td>\n",
       "      <td>...</td>\n",
       "      <td>...</td>\n",
       "      <td>...</td>\n",
       "    </tr>\n",
       "    <tr>\n",
       "      <td>32246</td>\n",
       "      <td>2020-05-24</td>\n",
       "      <td>1869</td>\n",
       "      <td>Spanish Primera Division</td>\n",
       "      <td>Villarreal</td>\n",
       "      <td>Eibar</td>\n",
       "      <td>73.84</td>\n",
       "      <td>73.46</td>\n",
       "      <td>0.4872</td>\n",
       "      <td>0.2588</td>\n",
       "      <td>0.2540</td>\n",
       "      <td>...</td>\n",
       "      <td>NaN</td>\n",
       "      <td>NaN</td>\n",
       "      <td>NaN</td>\n",
       "      <td>NaN</td>\n",
       "      <td>NaN</td>\n",
       "      <td>NaN</td>\n",
       "      <td>NaN</td>\n",
       "      <td>2.14</td>\n",
       "      <td>Eibar</td>\n",
       "      <td>1.87</td>\n",
       "    </tr>\n",
       "    <tr>\n",
       "      <td>32247</td>\n",
       "      <td>2020-05-24</td>\n",
       "      <td>1871</td>\n",
       "      <td>Spanish Segunda Division</td>\n",
       "      <td>Las Palmas</td>\n",
       "      <td>Extremadura UD</td>\n",
       "      <td>36.80</td>\n",
       "      <td>31.54</td>\n",
       "      <td>0.4904</td>\n",
       "      <td>0.2091</td>\n",
       "      <td>0.3004</td>\n",
       "      <td>...</td>\n",
       "      <td>NaN</td>\n",
       "      <td>NaN</td>\n",
       "      <td>NaN</td>\n",
       "      <td>NaN</td>\n",
       "      <td>NaN</td>\n",
       "      <td>NaN</td>\n",
       "      <td>NaN</td>\n",
       "      <td>1.02</td>\n",
       "      <td>Extremadura UD</td>\n",
       "      <td>0.77</td>\n",
       "    </tr>\n",
       "    <tr>\n",
       "      <td>32248</td>\n",
       "      <td>2020-05-24</td>\n",
       "      <td>1871</td>\n",
       "      <td>Spanish Segunda Division</td>\n",
       "      <td>Numancia</td>\n",
       "      <td>Tenerife</td>\n",
       "      <td>29.52</td>\n",
       "      <td>30.98</td>\n",
       "      <td>0.4367</td>\n",
       "      <td>0.2657</td>\n",
       "      <td>0.2977</td>\n",
       "      <td>...</td>\n",
       "      <td>NaN</td>\n",
       "      <td>NaN</td>\n",
       "      <td>NaN</td>\n",
       "      <td>NaN</td>\n",
       "      <td>NaN</td>\n",
       "      <td>NaN</td>\n",
       "      <td>NaN</td>\n",
       "      <td>0.76</td>\n",
       "      <td>Tenerife</td>\n",
       "      <td>0.94</td>\n",
       "    </tr>\n",
       "    <tr>\n",
       "      <td>32249</td>\n",
       "      <td>2020-05-24</td>\n",
       "      <td>1871</td>\n",
       "      <td>Spanish Segunda Division</td>\n",
       "      <td>Elche</td>\n",
       "      <td>Real Oviedo</td>\n",
       "      <td>32.18</td>\n",
       "      <td>30.04</td>\n",
       "      <td>0.4768</td>\n",
       "      <td>0.2473</td>\n",
       "      <td>0.2759</td>\n",
       "      <td>...</td>\n",
       "      <td>NaN</td>\n",
       "      <td>NaN</td>\n",
       "      <td>NaN</td>\n",
       "      <td>NaN</td>\n",
       "      <td>NaN</td>\n",
       "      <td>NaN</td>\n",
       "      <td>NaN</td>\n",
       "      <td>0.92</td>\n",
       "      <td>Real Oviedo</td>\n",
       "      <td>0.92</td>\n",
       "    </tr>\n",
       "    <tr>\n",
       "      <td>32250</td>\n",
       "      <td>2020-05-24</td>\n",
       "      <td>1871</td>\n",
       "      <td>Spanish Segunda Division</td>\n",
       "      <td>Real Zaragoza</td>\n",
       "      <td>SD Ponferradina</td>\n",
       "      <td>37.74</td>\n",
       "      <td>29.92</td>\n",
       "      <td>0.5405</td>\n",
       "      <td>0.2037</td>\n",
       "      <td>0.2558</td>\n",
       "      <td>...</td>\n",
       "      <td>NaN</td>\n",
       "      <td>NaN</td>\n",
       "      <td>NaN</td>\n",
       "      <td>NaN</td>\n",
       "      <td>NaN</td>\n",
       "      <td>NaN</td>\n",
       "      <td>NaN</td>\n",
       "      <td>1.08</td>\n",
       "      <td>SD Ponferradina</td>\n",
       "      <td>0.92</td>\n",
       "    </tr>\n",
       "  </tbody>\n",
       "</table>\n",
       "<p>32251 rows × 25 columns</p>\n",
       "</div>"
      ],
      "text/plain": [
       "             date  league_id                    league           team1  \\\n",
       "0      2016-08-12       1843            French Ligue 1          Bastia   \n",
       "1      2016-08-12       1843            French Ligue 1       AS Monaco   \n",
       "2      2016-08-13       2411   Barclays Premier League       Hull City   \n",
       "3      2016-08-13       2411   Barclays Premier League  Crystal Palace   \n",
       "4      2016-08-13       2411   Barclays Premier League         Everton   \n",
       "...           ...        ...                       ...             ...   \n",
       "32246  2020-05-24       1869  Spanish Primera Division      Villarreal   \n",
       "32247  2020-05-24       1871  Spanish Segunda Division      Las Palmas   \n",
       "32248  2020-05-24       1871  Spanish Segunda Division        Numancia   \n",
       "32249  2020-05-24       1871  Spanish Segunda Division           Elche   \n",
       "32250  2020-05-24       1871  Spanish Segunda Division   Real Zaragoza   \n",
       "\n",
       "                      team2   spi1   spi2   prob1   prob2  probtie  ...  \\\n",
       "0       Paris Saint-Germain  51.16  85.68  0.0463  0.8380   0.1157  ...   \n",
       "1                  Guingamp  68.85  56.48  0.5714  0.1669   0.2617  ...   \n",
       "2            Leicester City  53.57  66.81  0.3459  0.3621   0.2921  ...   \n",
       "3      West Bromwich Albion  55.19  58.66  0.4214  0.2939   0.2847  ...   \n",
       "4         Tottenham Hotspur  68.02  73.25  0.3910  0.3401   0.2689  ...   \n",
       "...                     ...    ...    ...     ...     ...      ...  ...   \n",
       "32246                 Eibar  73.84  73.46  0.4872  0.2588   0.2540  ...   \n",
       "32247        Extremadura UD  36.80  31.54  0.4904  0.2091   0.3004  ...   \n",
       "32248              Tenerife  29.52  30.98  0.4367  0.2657   0.2977  ...   \n",
       "32249           Real Oviedo  32.18  30.04  0.4768  0.2473   0.2759  ...   \n",
       "32250       SD Ponferradina  37.74  29.92  0.5405  0.2037   0.2558  ...   \n",
       "\n",
       "       score2   xg1   xg2  nsxg1  nsxg2  adj_score1  adj_score2  off_x  \\\n",
       "0         1.0  0.97  0.63   0.43   0.45        0.00        1.05    NaN   \n",
       "1         2.0  2.45  0.77   1.75   0.42        2.10        2.10   1.85   \n",
       "2         1.0  0.85  2.77   0.17   1.25        2.10        1.05   1.34   \n",
       "3         1.0  1.11  0.68   0.84   1.60        0.00        1.05   1.90   \n",
       "4         1.0  0.73  1.11   0.88   1.81        1.05        1.05   1.98   \n",
       "...       ...   ...   ...    ...    ...         ...         ...    ...   \n",
       "32246     NaN   NaN   NaN    NaN    NaN         NaN         NaN   2.14   \n",
       "32247     NaN   NaN   NaN    NaN    NaN         NaN         NaN   1.02   \n",
       "32248     NaN   NaN   NaN    NaN    NaN         NaN         NaN   0.76   \n",
       "32249     NaN   NaN   NaN    NaN    NaN         NaN         NaN   0.92   \n",
       "32250     NaN   NaN   NaN    NaN    NaN         NaN         NaN   1.08   \n",
       "\n",
       "                       name  off_y  \n",
       "0       Paris Saint-Germain   2.75  \n",
       "1                  Guingamp   1.35  \n",
       "2            Leicester City   2.01  \n",
       "3      West Bromwich Albion   1.66  \n",
       "4         Tottenham Hotspur   2.33  \n",
       "...                     ...    ...  \n",
       "32246                 Eibar   1.87  \n",
       "32247        Extremadura UD   0.77  \n",
       "32248              Tenerife   0.94  \n",
       "32249           Real Oviedo   0.92  \n",
       "32250       SD Ponferradina   0.92  \n",
       "\n",
       "[32251 rows x 25 columns]"
      ]
     },
     "execution_count": 10,
=======
       "  </tbody>\n",
       "</table>\n",
       "</div>"
      ],
      "text/plain": [
       "         date  league_id                   league           team1  \\\n",
       "0  2016-08-12       1843           French Ligue 1          Bastia   \n",
       "1  2016-08-12       1843           French Ligue 1       AS Monaco   \n",
       "2  2016-08-13       2411  Barclays Premier League       Hull City   \n",
       "3  2016-08-13       2411  Barclays Premier League  Crystal Palace   \n",
       "4  2016-08-13       2411  Barclays Premier League         Everton   \n",
       "\n",
       "                  team2   spi1   spi2   prob1   prob2  probtie  proj_score1  \\\n",
       "0   Paris Saint-Germain  51.16  85.68  0.0463  0.8380   0.1157         0.91   \n",
       "1              Guingamp  68.85  56.48  0.5714  0.1669   0.2617         1.82   \n",
       "2        Leicester City  53.57  66.81  0.3459  0.3621   0.2921         1.16   \n",
       "3  West Bromwich Albion  55.19  58.66  0.4214  0.2939   0.2847         1.35   \n",
       "4     Tottenham Hotspur  68.02  73.25  0.3910  0.3401   0.2689         1.47   \n",
       "\n",
       "   proj_score2  importance1  importance2  score1  score2   xg1   xg2  nsxg1  \\\n",
       "0         2.36         32.4         67.7     0.0     1.0  0.97  0.63   0.43   \n",
       "1         0.86         53.7         22.9     2.0     2.0  2.45  0.77   1.75   \n",
       "2         1.24         38.1         22.2     2.0     1.0  0.85  2.77   0.17   \n",
       "3         1.14         43.6         34.6     0.0     1.0  1.11  0.68   0.84   \n",
       "4         1.38         31.9         48.0     1.0     1.0  0.73  1.11   0.88   \n",
       "\n",
       "   nsxg2  adj_score1  adj_score2  off_x                  name  off_y  \n",
       "0   0.45        0.00        1.05    NaN   Paris Saint-Germain   2.75  \n",
       "1   0.42        2.10        2.10   1.85              Guingamp   1.35  \n",
       "2   1.25        2.10        1.05   1.34        Leicester City   2.01  \n",
       "3   1.60        0.00        1.05   1.90  West Bromwich Albion   1.66  \n",
       "4   1.81        1.05        1.05   1.98     Tottenham Hotspur   2.33  "
      ]
     },
     "execution_count": 12,
>>>>>>> e31dfd3c9b1f508a6c233b0c6c116f73e23bcc08
     "metadata": {},
     "output_type": "execute_result"
    }
   ],
   "source": [
<<<<<<< HEAD
    "spi_matches2"
=======
    "spi_matches2.head()"
>>>>>>> e31dfd3c9b1f508a6c233b0c6c116f73e23bcc08
   ]
  },
  {
   "cell_type": "markdown",
   "metadata": {},
   "source": [
    "* spi_matches2 is our new data frame that includes the offensive rating for team1 and team2"
   ]
  },
  {
<<<<<<< HEAD
   "cell_type": "code",
   "execution_count": 11,
=======
   "cell_type": "markdown",
   "metadata": {},
   "source": [
    "* Now we will remove missing values for the columns that we are going to use as our features"
   ]
  },
  {
   "cell_type": "code",
   "execution_count": 13,
>>>>>>> e31dfd3c9b1f508a6c233b0c6c116f73e23bcc08
   "metadata": {},
   "outputs": [],
   "source": [
    "spi_matches2 = spi_matches2[np.isfinite(spi_matches2['score1'])]\n",
    "spi_matches2 = spi_matches2[np.isfinite(spi_matches2['score2'])]\n",
<<<<<<< HEAD
=======
    "spi_matches2 = spi_matches2[np.isfinite(spi_matches2['importance1'])]\n",
    "spi_matches2 = spi_matches2[np.isfinite(spi_matches2['importance2'])]\n",
>>>>>>> e31dfd3c9b1f508a6c233b0c6c116f73e23bcc08
    "spi_matches2 = spi_matches2[np.isfinite(spi_matches2['off_x'])]\n",
    "spi_matches2 = spi_matches2[np.isfinite(spi_matches2['off_y'])]"
   ]
  },
  {
   "cell_type": "markdown",
   "metadata": {},
   "source": [
    "* Now we are going to plot score1 vs score2 for "
   ]
  },
  {
   "cell_type": "code",
<<<<<<< HEAD
   "execution_count": 12,
=======
   "execution_count": 14,
>>>>>>> e31dfd3c9b1f508a6c233b0c6c116f73e23bcc08
   "metadata": {},
   "outputs": [
    {
     "data": {
<<<<<<< HEAD
      "image/png": "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\n",
=======
      "image/png": "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\n",
>>>>>>> e31dfd3c9b1f508a6c233b0c6c116f73e23bcc08
      "text/plain": [
       "<Figure size 432x288 with 1 Axes>"
      ]
     },
     "metadata": {
      "needs_background": "light"
     },
     "output_type": "display_data"
    }
   ],
   "source": [
    "spi_matches2.plot(x='score1', y='score2', style='o')  \n",
    "plt.title('score1 vs score2')  \n",
    "plt.xlabel('score1')  \n",
    "plt.ylabel('score2')  \n",
<<<<<<< HEAD
    "plt.show()"
=======
    "plt.show()\n",
    "plt.close()"
>>>>>>> e31dfd3c9b1f508a6c233b0c6c116f73e23bcc08
   ]
  },
  {
   "cell_type": "code",
<<<<<<< HEAD
   "execution_count": 13,
   "metadata": {},
=======
   "execution_count": 15,
   "metadata": {
    "scrolled": true
   },
>>>>>>> e31dfd3c9b1f508a6c233b0c6c116f73e23bcc08
   "outputs": [
    {
     "data": {
      "text/plain": [
<<<<<<< HEAD
       "<matplotlib.axes._subplots.AxesSubplot at 0x7fd8ee1f0690>"
      ]
     },
     "execution_count": 13,
=======
       "<matplotlib.axes._subplots.AxesSubplot at 0x205bd2d8438>"
      ]
     },
     "execution_count": 15,
>>>>>>> e31dfd3c9b1f508a6c233b0c6c116f73e23bcc08
     "metadata": {},
     "output_type": "execute_result"
    },
    {
     "data": {
<<<<<<< HEAD
      "image/png": "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\n",
=======
      "image/png": "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\n",
>>>>>>> e31dfd3c9b1f508a6c233b0c6c116f73e23bcc08
      "text/plain": [
       "<Figure size 1080x720 with 1 Axes>"
      ]
     },
     "metadata": {
      "needs_background": "light"
     },
     "output_type": "display_data"
    }
   ],
   "source": [
    "plt.figure(figsize=(15,10))\n",
    "plt.tight_layout()\n",
<<<<<<< HEAD
    "seabornInstance.distplot(spi_matches2['score1'])"
=======
    "seabornInstance.distplot(spi_matches2['score1'])\n"
>>>>>>> e31dfd3c9b1f508a6c233b0c6c116f73e23bcc08
   ]
  },
  {
   "cell_type": "code",
<<<<<<< HEAD
   "execution_count": 14,
=======
   "execution_count": 16,
   "metadata": {},
   "outputs": [],
   "source": [
    "plt.close()"
   ]
  },
  {
   "cell_type": "code",
   "execution_count": 17,
>>>>>>> e31dfd3c9b1f508a6c233b0c6c116f73e23bcc08
   "metadata": {},
   "outputs": [
    {
     "data": {
      "text/plain": [
<<<<<<< HEAD
       "<matplotlib.axes._subplots.AxesSubplot at 0x7fd8ee0f68d0>"
      ]
     },
     "execution_count": 14,
=======
       "<matplotlib.axes._subplots.AxesSubplot at 0x205bd74d128>"
      ]
     },
     "execution_count": 17,
>>>>>>> e31dfd3c9b1f508a6c233b0c6c116f73e23bcc08
     "metadata": {},
     "output_type": "execute_result"
    },
    {
     "data": {
<<<<<<< HEAD
      "image/png": "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\n",
=======
      "image/png": "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\n",
>>>>>>> e31dfd3c9b1f508a6c233b0c6c116f73e23bcc08
      "text/plain": [
       "<Figure size 1080x720 with 1 Axes>"
      ]
     },
     "metadata": {
      "needs_background": "light"
     },
     "output_type": "display_data"
    }
   ],
   "source": [
    "plt.figure(figsize=(15,10))\n",
    "plt.tight_layout()\n",
<<<<<<< HEAD
    "seabornInstance.distplot(spi_matches2['score2'])"
=======
    "seabornInstance.distplot(spi_matches2['score2'])\n",
    "#plt.close()"
>>>>>>> e31dfd3c9b1f508a6c233b0c6c116f73e23bcc08
   ]
  },
  {
   "cell_type": "code",
<<<<<<< HEAD
   "execution_count": 15,
=======
   "execution_count": 18,
   "metadata": {},
   "outputs": [],
   "source": [
    "plt.close()"
   ]
  },
  {
   "cell_type": "code",
   "execution_count": 19,
>>>>>>> e31dfd3c9b1f508a6c233b0c6c116f73e23bcc08
   "metadata": {},
   "outputs": [
    {
     "data": {
      "text/plain": [
<<<<<<< HEAD
       "(21557, 25)"
      ]
     },
     "execution_count": 15,
=======
       "(18270, 25)"
      ]
     },
     "execution_count": 19,
>>>>>>> e31dfd3c9b1f508a6c233b0c6c116f73e23bcc08
     "metadata": {},
     "output_type": "execute_result"
    }
   ],
   "source": [
    "spi_matches2.shape"
   ]
  },
  {
   "cell_type": "code",
<<<<<<< HEAD
   "execution_count": 16,
   "metadata": {},
=======
   "execution_count": 20,
   "metadata": {
    "scrolled": true
   },
>>>>>>> e31dfd3c9b1f508a6c233b0c6c116f73e23bcc08
   "outputs": [
    {
     "data": {
      "text/plain": [
       "date           False\n",
       "league_id      False\n",
       "league         False\n",
       "team1          False\n",
       "team2          False\n",
       "spi1           False\n",
       "spi2           False\n",
       "prob1          False\n",
       "prob2          False\n",
       "probtie        False\n",
       "proj_score1    False\n",
       "proj_score2    False\n",
<<<<<<< HEAD
       "importance1     True\n",
       "importance2     True\n",
=======
       "importance1    False\n",
       "importance2    False\n",
>>>>>>> e31dfd3c9b1f508a6c233b0c6c116f73e23bcc08
       "score1         False\n",
       "score2         False\n",
       "xg1             True\n",
       "xg2             True\n",
       "nsxg1           True\n",
       "nsxg2           True\n",
       "adj_score1      True\n",
       "adj_score2      True\n",
       "off_x          False\n",
       "name           False\n",
       "off_y          False\n",
       "dtype: bool"
      ]
     },
<<<<<<< HEAD
     "execution_count": 16,
=======
     "execution_count": 20,
>>>>>>> e31dfd3c9b1f508a6c233b0c6c116f73e23bcc08
     "metadata": {},
     "output_type": "execute_result"
    }
   ],
   "source": [
    "spi_matches2.isnull().any()"
   ]
  },
  {
   "cell_type": "code",
<<<<<<< HEAD
   "execution_count": 17,
   "metadata": {},
   "outputs": [],
   "source": [
    "spi_matches2 = spi_matches2.fillna(method='ffill')"
=======
   "execution_count": 21,
   "metadata": {},
   "outputs": [],
   "source": [
    "# Now we will impude the missing values by taking the average for each column.\n",
    "#spi_matches2['importance1'] = spi_matches2['importance1'].fillna(spi_matches2['importance1'].mean())\n",
    "#spi_matches2['importance2'] = spi_matches2['importance2'].fillna(spi_matches2['importance2'].mean())\n",
    "#spi_matches2['xg1'] = spi_matches2['xg1'].fillna(spi_matches2['xg1'].mean())\n",
    "#spi_matches2['xg2'] = spi_matches2['xg2'].fillna(spi_matches2['xg2'].mean())\n",
    "#spi_matches2['nsxg1'] = spi_matches2['nsxg1'].fillna(spi_matches2['nsxg1'].mean())\n",
    "#spi_matches2['nsxg2'] = spi_matches2['nsxg2'].fillna(spi_matches2['nsxg2'].mean())\n",
    "#spi_matches2['adj_score1'] = spi_matches2['adj_score1'].fillna(spi_matches2['adj_score1'].mean())\n",
    "#spi_matches2['adj_score2'] = spi_matches2['adj_score2'].fillna(spi_matches2['adj_score2'].mean())"
>>>>>>> e31dfd3c9b1f508a6c233b0c6c116f73e23bcc08
   ]
  },
  {
   "cell_type": "code",
<<<<<<< HEAD
   "execution_count": 18,
=======
   "execution_count": 22,
   "metadata": {},
   "outputs": [],
   "source": [
    "# spi_matches2 = spi_matches2.fillna(method='ffill')"
   ]
  },
  {
   "cell_type": "code",
   "execution_count": 23,
>>>>>>> e31dfd3c9b1f508a6c233b0c6c116f73e23bcc08
   "metadata": {},
   "outputs": [
    {
     "data": {
      "text/plain": [
       "date           False\n",
       "league_id      False\n",
       "league         False\n",
       "team1          False\n",
       "team2          False\n",
       "spi1           False\n",
       "spi2           False\n",
       "prob1          False\n",
       "prob2          False\n",
       "probtie        False\n",
       "proj_score1    False\n",
       "proj_score2    False\n",
       "importance1    False\n",
       "importance2    False\n",
       "score1         False\n",
       "score2         False\n",
<<<<<<< HEAD
       "xg1            False\n",
       "xg2            False\n",
       "nsxg1          False\n",
       "nsxg2          False\n",
       "adj_score1     False\n",
       "adj_score2     False\n",
=======
       "xg1             True\n",
       "xg2             True\n",
       "nsxg1           True\n",
       "nsxg2           True\n",
       "adj_score1      True\n",
       "adj_score2      True\n",
>>>>>>> e31dfd3c9b1f508a6c233b0c6c116f73e23bcc08
       "off_x          False\n",
       "name           False\n",
       "off_y          False\n",
       "dtype: bool"
      ]
     },
<<<<<<< HEAD
     "execution_count": 18,
=======
     "execution_count": 23,
>>>>>>> e31dfd3c9b1f508a6c233b0c6c116f73e23bcc08
     "metadata": {},
     "output_type": "execute_result"
    }
   ],
   "source": [
    "spi_matches2.isnull().any()"
   ]
  },
  {
   "cell_type": "code",
<<<<<<< HEAD
   "execution_count": 19,
=======
   "execution_count": 24,
>>>>>>> e31dfd3c9b1f508a6c233b0c6c116f73e23bcc08
   "metadata": {},
   "outputs": [
    {
     "data": {
      "text/html": [
       "<div>\n",
       "<style scoped>\n",
       "    .dataframe tbody tr th:only-of-type {\n",
       "        vertical-align: middle;\n",
       "    }\n",
       "\n",
       "    .dataframe tbody tr th {\n",
       "        vertical-align: top;\n",
       "    }\n",
       "\n",
       "    .dataframe thead th {\n",
       "        text-align: right;\n",
       "    }\n",
       "</style>\n",
       "<table border=\"1\" class=\"dataframe\">\n",
       "  <thead>\n",
       "    <tr style=\"text-align: right;\">\n",
       "      <th></th>\n",
       "      <th>date</th>\n",
       "      <th>league_id</th>\n",
       "      <th>league</th>\n",
       "      <th>team1</th>\n",
       "      <th>team2</th>\n",
       "      <th>spi1</th>\n",
       "      <th>spi2</th>\n",
       "      <th>prob1</th>\n",
       "      <th>prob2</th>\n",
       "      <th>probtie</th>\n",
<<<<<<< HEAD
       "      <th>...</th>\n",
=======
       "      <th>proj_score1</th>\n",
       "      <th>proj_score2</th>\n",
       "      <th>importance1</th>\n",
       "      <th>importance2</th>\n",
       "      <th>score1</th>\n",
>>>>>>> e31dfd3c9b1f508a6c233b0c6c116f73e23bcc08
       "      <th>score2</th>\n",
       "      <th>xg1</th>\n",
       "      <th>xg2</th>\n",
       "      <th>nsxg1</th>\n",
       "      <th>nsxg2</th>\n",
       "      <th>adj_score1</th>\n",
       "      <th>adj_score2</th>\n",
       "      <th>off_x</th>\n",
       "      <th>name</th>\n",
       "      <th>off_y</th>\n",
       "    </tr>\n",
       "  </thead>\n",
       "  <tbody>\n",
       "    <tr>\n",
<<<<<<< HEAD
       "      <td>1</td>\n",
=======
       "      <th>1</th>\n",
>>>>>>> e31dfd3c9b1f508a6c233b0c6c116f73e23bcc08
       "      <td>2016-08-12</td>\n",
       "      <td>1843</td>\n",
       "      <td>French Ligue 1</td>\n",
       "      <td>AS Monaco</td>\n",
       "      <td>Guingamp</td>\n",
       "      <td>68.85</td>\n",
       "      <td>56.48</td>\n",
       "      <td>0.5714</td>\n",
       "      <td>0.1669</td>\n",
       "      <td>0.2617</td>\n",
<<<<<<< HEAD
       "      <td>...</td>\n",
=======
       "      <td>1.82</td>\n",
       "      <td>0.86</td>\n",
       "      <td>53.7</td>\n",
       "      <td>22.9</td>\n",
       "      <td>2.0</td>\n",
>>>>>>> e31dfd3c9b1f508a6c233b0c6c116f73e23bcc08
       "      <td>2.0</td>\n",
       "      <td>2.45</td>\n",
       "      <td>0.77</td>\n",
       "      <td>1.75</td>\n",
       "      <td>0.42</td>\n",
       "      <td>2.10</td>\n",
       "      <td>2.10</td>\n",
       "      <td>1.85</td>\n",
       "      <td>Guingamp</td>\n",
       "      <td>1.35</td>\n",
       "    </tr>\n",
       "    <tr>\n",
<<<<<<< HEAD
       "      <td>2</td>\n",
=======
       "      <th>2</th>\n",
>>>>>>> e31dfd3c9b1f508a6c233b0c6c116f73e23bcc08
       "      <td>2016-08-13</td>\n",
       "      <td>2411</td>\n",
       "      <td>Barclays Premier League</td>\n",
       "      <td>Hull City</td>\n",
       "      <td>Leicester City</td>\n",
       "      <td>53.57</td>\n",
       "      <td>66.81</td>\n",
       "      <td>0.3459</td>\n",
       "      <td>0.3621</td>\n",
       "      <td>0.2921</td>\n",
<<<<<<< HEAD
       "      <td>...</td>\n",
=======
       "      <td>1.16</td>\n",
       "      <td>1.24</td>\n",
       "      <td>38.1</td>\n",
       "      <td>22.2</td>\n",
       "      <td>2.0</td>\n",
>>>>>>> e31dfd3c9b1f508a6c233b0c6c116f73e23bcc08
       "      <td>1.0</td>\n",
       "      <td>0.85</td>\n",
       "      <td>2.77</td>\n",
       "      <td>0.17</td>\n",
       "      <td>1.25</td>\n",
       "      <td>2.10</td>\n",
       "      <td>1.05</td>\n",
       "      <td>1.34</td>\n",
       "      <td>Leicester City</td>\n",
       "      <td>2.01</td>\n",
       "    </tr>\n",
       "    <tr>\n",
<<<<<<< HEAD
       "      <td>3</td>\n",
=======
       "      <th>3</th>\n",
>>>>>>> e31dfd3c9b1f508a6c233b0c6c116f73e23bcc08
       "      <td>2016-08-13</td>\n",
       "      <td>2411</td>\n",
       "      <td>Barclays Premier League</td>\n",
       "      <td>Crystal Palace</td>\n",
       "      <td>West Bromwich Albion</td>\n",
       "      <td>55.19</td>\n",
       "      <td>58.66</td>\n",
       "      <td>0.4214</td>\n",
       "      <td>0.2939</td>\n",
       "      <td>0.2847</td>\n",
<<<<<<< HEAD
       "      <td>...</td>\n",
=======
       "      <td>1.35</td>\n",
       "      <td>1.14</td>\n",
       "      <td>43.6</td>\n",
       "      <td>34.6</td>\n",
       "      <td>0.0</td>\n",
>>>>>>> e31dfd3c9b1f508a6c233b0c6c116f73e23bcc08
       "      <td>1.0</td>\n",
       "      <td>1.11</td>\n",
       "      <td>0.68</td>\n",
       "      <td>0.84</td>\n",
       "      <td>1.60</td>\n",
       "      <td>0.00</td>\n",
       "      <td>1.05</td>\n",
       "      <td>1.90</td>\n",
       "      <td>West Bromwich Albion</td>\n",
       "      <td>1.66</td>\n",
       "    </tr>\n",
       "    <tr>\n",
<<<<<<< HEAD
       "      <td>4</td>\n",
=======
       "      <th>4</th>\n",
>>>>>>> e31dfd3c9b1f508a6c233b0c6c116f73e23bcc08
       "      <td>2016-08-13</td>\n",
       "      <td>2411</td>\n",
       "      <td>Barclays Premier League</td>\n",
       "      <td>Everton</td>\n",
       "      <td>Tottenham Hotspur</td>\n",
       "      <td>68.02</td>\n",
       "      <td>73.25</td>\n",
       "      <td>0.3910</td>\n",
       "      <td>0.3401</td>\n",
       "      <td>0.2689</td>\n",
<<<<<<< HEAD
       "      <td>...</td>\n",
=======
       "      <td>1.47</td>\n",
       "      <td>1.38</td>\n",
       "      <td>31.9</td>\n",
       "      <td>48.0</td>\n",
       "      <td>1.0</td>\n",
>>>>>>> e31dfd3c9b1f508a6c233b0c6c116f73e23bcc08
       "      <td>1.0</td>\n",
       "      <td>0.73</td>\n",
       "      <td>1.11</td>\n",
       "      <td>0.88</td>\n",
       "      <td>1.81</td>\n",
       "      <td>1.05</td>\n",
       "      <td>1.05</td>\n",
       "      <td>1.98</td>\n",
       "      <td>Tottenham Hotspur</td>\n",
       "      <td>2.33</td>\n",
       "    </tr>\n",
       "    <tr>\n",
<<<<<<< HEAD
       "      <td>5</td>\n",
=======
       "      <th>5</th>\n",
>>>>>>> e31dfd3c9b1f508a6c233b0c6c116f73e23bcc08
       "      <td>2016-08-13</td>\n",
       "      <td>2411</td>\n",
       "      <td>Barclays Premier League</td>\n",
       "      <td>Middlesbrough</td>\n",
       "      <td>Stoke City</td>\n",
       "      <td>56.32</td>\n",
       "      <td>60.35</td>\n",
       "      <td>0.4380</td>\n",
       "      <td>0.2692</td>\n",
       "      <td>0.2927</td>\n",
<<<<<<< HEAD
       "      <td>...</td>\n",
=======
       "      <td>1.30</td>\n",
       "      <td>1.01</td>\n",
       "      <td>33.9</td>\n",
       "      <td>32.5</td>\n",
       "      <td>1.0</td>\n",
>>>>>>> e31dfd3c9b1f508a6c233b0c6c116f73e23bcc08
       "      <td>1.0</td>\n",
       "      <td>1.40</td>\n",
       "      <td>0.55</td>\n",
       "      <td>1.13</td>\n",
       "      <td>1.06</td>\n",
       "      <td>1.05</td>\n",
       "      <td>1.05</td>\n",
       "      <td>1.25</td>\n",
       "      <td>Stoke City</td>\n",
       "      <td>1.36</td>\n",
       "    </tr>\n",
<<<<<<< HEAD
       "    <tr>\n",
       "      <td>...</td>\n",
       "      <td>...</td>\n",
       "      <td>...</td>\n",
       "      <td>...</td>\n",
       "      <td>...</td>\n",
       "      <td>...</td>\n",
       "      <td>...</td>\n",
       "      <td>...</td>\n",
       "      <td>...</td>\n",
       "      <td>...</td>\n",
       "      <td>...</td>\n",
       "      <td>...</td>\n",
       "      <td>...</td>\n",
       "      <td>...</td>\n",
       "      <td>...</td>\n",
       "      <td>...</td>\n",
       "      <td>...</td>\n",
       "      <td>...</td>\n",
       "      <td>...</td>\n",
       "      <td>...</td>\n",
       "      <td>...</td>\n",
       "      <td>...</td>\n",
       "    </tr>\n",
       "    <tr>\n",
       "      <td>25826</td>\n",
       "      <td>2019-10-13</td>\n",
       "      <td>2105</td>\n",
       "      <td>Brasileiro Série A</td>\n",
       "      <td>Ceará</td>\n",
       "      <td>Avaí</td>\n",
       "      <td>47.90</td>\n",
       "      <td>38.49</td>\n",
       "      <td>0.6210</td>\n",
       "      <td>0.1338</td>\n",
       "      <td>0.2452</td>\n",
       "      <td>...</td>\n",
       "      <td>0.0</td>\n",
       "      <td>1.80</td>\n",
       "      <td>0.73</td>\n",
       "      <td>2.43</td>\n",
       "      <td>0.73</td>\n",
       "      <td>1.05</td>\n",
       "      <td>0.00</td>\n",
       "      <td>1.20</td>\n",
       "      <td>Avaí</td>\n",
       "      <td>1.00</td>\n",
       "    </tr>\n",
       "    <tr>\n",
       "      <td>25827</td>\n",
       "      <td>2019-10-13</td>\n",
       "      <td>2105</td>\n",
       "      <td>Brasileiro Série A</td>\n",
       "      <td>São Paulo</td>\n",
       "      <td>Corinthians</td>\n",
       "      <td>57.83</td>\n",
       "      <td>55.99</td>\n",
       "      <td>0.4716</td>\n",
       "      <td>0.2169</td>\n",
       "      <td>0.3116</td>\n",
       "      <td>...</td>\n",
       "      <td>0.0</td>\n",
       "      <td>1.61</td>\n",
       "      <td>0.07</td>\n",
       "      <td>0.96</td>\n",
       "      <td>0.55</td>\n",
       "      <td>1.05</td>\n",
       "      <td>0.00</td>\n",
       "      <td>1.31</td>\n",
       "      <td>Corinthians</td>\n",
       "      <td>1.22</td>\n",
       "    </tr>\n",
       "    <tr>\n",
       "      <td>25828</td>\n",
       "      <td>2019-10-13</td>\n",
       "      <td>2105</td>\n",
       "      <td>Brasileiro Série A</td>\n",
       "      <td>Chapecoense AF</td>\n",
       "      <td>Cruzeiro</td>\n",
       "      <td>40.41</td>\n",
       "      <td>50.30</td>\n",
       "      <td>0.3505</td>\n",
       "      <td>0.3593</td>\n",
       "      <td>0.2902</td>\n",
       "      <td>...</td>\n",
       "      <td>1.0</td>\n",
       "      <td>1.18</td>\n",
       "      <td>1.71</td>\n",
       "      <td>1.78</td>\n",
       "      <td>1.44</td>\n",
       "      <td>1.05</td>\n",
       "      <td>1.05</td>\n",
       "      <td>1.04</td>\n",
       "      <td>Cruzeiro</td>\n",
       "      <td>1.27</td>\n",
       "    </tr>\n",
       "    <tr>\n",
       "      <td>25829</td>\n",
       "      <td>2019-10-13</td>\n",
       "      <td>2105</td>\n",
       "      <td>Brasileiro Série A</td>\n",
       "      <td>Atletico Mineiro</td>\n",
       "      <td>Grêmio</td>\n",
       "      <td>53.88</td>\n",
       "      <td>63.47</td>\n",
       "      <td>0.3945</td>\n",
       "      <td>0.3593</td>\n",
       "      <td>0.2462</td>\n",
       "      <td>...</td>\n",
       "      <td>4.0</td>\n",
       "      <td>1.90</td>\n",
       "      <td>1.77</td>\n",
       "      <td>1.69</td>\n",
       "      <td>1.04</td>\n",
       "      <td>1.05</td>\n",
       "      <td>3.57</td>\n",
       "      <td>1.52</td>\n",
       "      <td>Grêmio</td>\n",
       "      <td>1.71</td>\n",
       "    </tr>\n",
       "    <tr>\n",
       "      <td>25830</td>\n",
       "      <td>2019-10-13</td>\n",
       "      <td>2160</td>\n",
       "      <td>United Soccer League</td>\n",
       "      <td>Oklahoma City Energy FC</td>\n",
       "      <td>Rio Grande Valley FC Toros</td>\n",
       "      <td>15.08</td>\n",
       "      <td>12.47</td>\n",
       "      <td>0.4338</td>\n",
       "      <td>0.3046</td>\n",
       "      <td>0.2616</td>\n",
       "      <td>...</td>\n",
       "      <td>2.0</td>\n",
       "      <td>1.90</td>\n",
       "      <td>1.77</td>\n",
       "      <td>1.69</td>\n",
       "      <td>1.04</td>\n",
       "      <td>1.05</td>\n",
       "      <td>3.57</td>\n",
       "      <td>0.57</td>\n",
       "      <td>Rio Grande Valley FC Toros</td>\n",
       "      <td>0.58</td>\n",
       "    </tr>\n",
       "  </tbody>\n",
       "</table>\n",
       "<p>21557 rows × 25 columns</p>\n",
       "</div>"
      ],
      "text/plain": [
       "             date  league_id                   league  \\\n",
       "1      2016-08-12       1843           French Ligue 1   \n",
       "2      2016-08-13       2411  Barclays Premier League   \n",
       "3      2016-08-13       2411  Barclays Premier League   \n",
       "4      2016-08-13       2411  Barclays Premier League   \n",
       "5      2016-08-13       2411  Barclays Premier League   \n",
       "...           ...        ...                      ...   \n",
       "25826  2019-10-13       2105       Brasileiro Série A   \n",
       "25827  2019-10-13       2105       Brasileiro Série A   \n",
       "25828  2019-10-13       2105       Brasileiro Série A   \n",
       "25829  2019-10-13       2105       Brasileiro Série A   \n",
       "25830  2019-10-13       2160     United Soccer League   \n",
       "\n",
       "                         team1                       team2   spi1   spi2  \\\n",
       "1                    AS Monaco                    Guingamp  68.85  56.48   \n",
       "2                    Hull City              Leicester City  53.57  66.81   \n",
       "3               Crystal Palace        West Bromwich Albion  55.19  58.66   \n",
       "4                      Everton           Tottenham Hotspur  68.02  73.25   \n",
       "5                Middlesbrough                  Stoke City  56.32  60.35   \n",
       "...                        ...                         ...    ...    ...   \n",
       "25826                    Ceará                        Avaí  47.90  38.49   \n",
       "25827                São Paulo                 Corinthians  57.83  55.99   \n",
       "25828           Chapecoense AF                    Cruzeiro  40.41  50.30   \n",
       "25829         Atletico Mineiro                      Grêmio  53.88  63.47   \n",
       "25830  Oklahoma City Energy FC  Rio Grande Valley FC Toros  15.08  12.47   \n",
       "\n",
       "        prob1   prob2  probtie  ...  score2   xg1   xg2  nsxg1  nsxg2  \\\n",
       "1      0.5714  0.1669   0.2617  ...     2.0  2.45  0.77   1.75   0.42   \n",
       "2      0.3459  0.3621   0.2921  ...     1.0  0.85  2.77   0.17   1.25   \n",
       "3      0.4214  0.2939   0.2847  ...     1.0  1.11  0.68   0.84   1.60   \n",
       "4      0.3910  0.3401   0.2689  ...     1.0  0.73  1.11   0.88   1.81   \n",
       "5      0.4380  0.2692   0.2927  ...     1.0  1.40  0.55   1.13   1.06   \n",
       "...       ...     ...      ...  ...     ...   ...   ...    ...    ...   \n",
       "25826  0.6210  0.1338   0.2452  ...     0.0  1.80  0.73   2.43   0.73   \n",
       "25827  0.4716  0.2169   0.3116  ...     0.0  1.61  0.07   0.96   0.55   \n",
       "25828  0.3505  0.3593   0.2902  ...     1.0  1.18  1.71   1.78   1.44   \n",
       "25829  0.3945  0.3593   0.2462  ...     4.0  1.90  1.77   1.69   1.04   \n",
       "25830  0.4338  0.3046   0.2616  ...     2.0  1.90  1.77   1.69   1.04   \n",
       "\n",
       "       adj_score1  adj_score2  off_x                        name  off_y  \n",
       "1            2.10        2.10   1.85                    Guingamp   1.35  \n",
       "2            2.10        1.05   1.34              Leicester City   2.01  \n",
       "3            0.00        1.05   1.90        West Bromwich Albion   1.66  \n",
       "4            1.05        1.05   1.98           Tottenham Hotspur   2.33  \n",
       "5            1.05        1.05   1.25                  Stoke City   1.36  \n",
       "...           ...         ...    ...                         ...    ...  \n",
       "25826        1.05        0.00   1.20                        Avaí   1.00  \n",
       "25827        1.05        0.00   1.31                 Corinthians   1.22  \n",
       "25828        1.05        1.05   1.04                    Cruzeiro   1.27  \n",
       "25829        1.05        3.57   1.52                      Grêmio   1.71  \n",
       "25830        1.05        3.57   0.57  Rio Grande Valley FC Toros   0.58  \n",
       "\n",
       "[21557 rows x 25 columns]"
      ]
     },
     "execution_count": 19,
=======
       "  </tbody>\n",
       "</table>\n",
       "</div>"
      ],
      "text/plain": [
       "         date  league_id                   league           team1  \\\n",
       "1  2016-08-12       1843           French Ligue 1       AS Monaco   \n",
       "2  2016-08-13       2411  Barclays Premier League       Hull City   \n",
       "3  2016-08-13       2411  Barclays Premier League  Crystal Palace   \n",
       "4  2016-08-13       2411  Barclays Premier League         Everton   \n",
       "5  2016-08-13       2411  Barclays Premier League   Middlesbrough   \n",
       "\n",
       "                  team2   spi1   spi2   prob1   prob2  probtie  proj_score1  \\\n",
       "1              Guingamp  68.85  56.48  0.5714  0.1669   0.2617         1.82   \n",
       "2        Leicester City  53.57  66.81  0.3459  0.3621   0.2921         1.16   \n",
       "3  West Bromwich Albion  55.19  58.66  0.4214  0.2939   0.2847         1.35   \n",
       "4     Tottenham Hotspur  68.02  73.25  0.3910  0.3401   0.2689         1.47   \n",
       "5            Stoke City  56.32  60.35  0.4380  0.2692   0.2927         1.30   \n",
       "\n",
       "   proj_score2  importance1  importance2  score1  score2   xg1   xg2  nsxg1  \\\n",
       "1         0.86         53.7         22.9     2.0     2.0  2.45  0.77   1.75   \n",
       "2         1.24         38.1         22.2     2.0     1.0  0.85  2.77   0.17   \n",
       "3         1.14         43.6         34.6     0.0     1.0  1.11  0.68   0.84   \n",
       "4         1.38         31.9         48.0     1.0     1.0  0.73  1.11   0.88   \n",
       "5         1.01         33.9         32.5     1.0     1.0  1.40  0.55   1.13   \n",
       "\n",
       "   nsxg2  adj_score1  adj_score2  off_x                  name  off_y  \n",
       "1   0.42        2.10        2.10   1.85              Guingamp   1.35  \n",
       "2   1.25        2.10        1.05   1.34        Leicester City   2.01  \n",
       "3   1.60        0.00        1.05   1.90  West Bromwich Albion   1.66  \n",
       "4   1.81        1.05        1.05   1.98     Tottenham Hotspur   2.33  \n",
       "5   1.06        1.05        1.05   1.25            Stoke City   1.36  "
      ]
     },
     "execution_count": 24,
>>>>>>> e31dfd3c9b1f508a6c233b0c6c116f73e23bcc08
     "metadata": {},
     "output_type": "execute_result"
    }
   ],
   "source": [
<<<<<<< HEAD
    "spi_matches2"
=======
    "spi_matches2.head()"
>>>>>>> e31dfd3c9b1f508a6c233b0c6c116f73e23bcc08
   ]
  }
 ],
 "metadata": {
  "kernelspec": {
   "display_name": "Python 3",
   "language": "python",
   "name": "python3"
  },
  "language_info": {
   "codemirror_mode": {
    "name": "ipython",
    "version": 3
   },
   "file_extension": ".py",
   "mimetype": "text/x-python",
   "name": "python",
   "nbconvert_exporter": "python",
   "pygments_lexer": "ipython3",
<<<<<<< HEAD
   "version": "3.7.4"
=======
   "version": "3.7.3"
>>>>>>> e31dfd3c9b1f508a6c233b0c6c116f73e23bcc08
  }
 },
 "nbformat": 4,
 "nbformat_minor": 2
}
